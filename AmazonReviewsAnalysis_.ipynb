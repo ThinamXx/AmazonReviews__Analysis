{
  "nbformat": 4,
  "nbformat_minor": 0,
  "metadata": {
    "colab": {
      "name": "AmazonReviewsAnalysis .ipynb",
      "provenance": [],
      "collapsed_sections": []
    },
    "kernelspec": {
      "name": "python3",
      "display_name": "Python 3"
    },
    "accelerator": "GPU",
    "widgets": {
      "application/vnd.jupyter.widget-state+json": {
        "eb48dcd91aaa4648b77784dc4bdd26c9": {
          "model_module": "@jupyter-widgets/controls",
          "model_name": "HBoxModel",
          "state": {
            "_view_name": "HBoxView",
            "_dom_classes": [],
            "_model_name": "HBoxModel",
            "_view_module": "@jupyter-widgets/controls",
            "_model_module_version": "1.5.0",
            "_view_count": null,
            "_view_module_version": "1.5.0",
            "box_style": "",
            "layout": "IPY_MODEL_2cc6b234b7454041b746acda90926a16",
            "_model_module": "@jupyter-widgets/controls",
            "children": [
              "IPY_MODEL_a8200fa6ef3748efae23ecddf8de23ed",
              "IPY_MODEL_3c1a75a4f15645b690917cc730921614"
            ]
          }
        },
        "2cc6b234b7454041b746acda90926a16": {
          "model_module": "@jupyter-widgets/base",
          "model_name": "LayoutModel",
          "state": {
            "_view_name": "LayoutView",
            "grid_template_rows": null,
            "right": null,
            "justify_content": null,
            "_view_module": "@jupyter-widgets/base",
            "overflow": null,
            "_model_module_version": "1.2.0",
            "_view_count": null,
            "flex_flow": null,
            "width": null,
            "min_width": null,
            "border": null,
            "align_items": null,
            "bottom": null,
            "_model_module": "@jupyter-widgets/base",
            "top": null,
            "grid_column": null,
            "overflow_y": null,
            "overflow_x": null,
            "grid_auto_flow": null,
            "grid_area": null,
            "grid_template_columns": null,
            "flex": null,
            "_model_name": "LayoutModel",
            "justify_items": null,
            "grid_row": null,
            "max_height": null,
            "align_content": null,
            "visibility": null,
            "align_self": null,
            "height": null,
            "min_height": null,
            "padding": null,
            "grid_auto_rows": null,
            "grid_gap": null,
            "max_width": null,
            "order": null,
            "_view_module_version": "1.2.0",
            "grid_template_areas": null,
            "object_position": null,
            "object_fit": null,
            "grid_auto_columns": null,
            "margin": null,
            "display": null,
            "left": null
          }
        },
        "a8200fa6ef3748efae23ecddf8de23ed": {
          "model_module": "@jupyter-widgets/controls",
          "model_name": "FloatProgressModel",
          "state": {
            "_view_name": "ProgressView",
            "style": "IPY_MODEL_8fb4f466a8ae42cf8fbde0ce639db44a",
            "_dom_classes": [],
            "description": "Dl Completed...: 100%",
            "_model_name": "FloatProgressModel",
            "bar_style": "success",
            "max": 1,
            "_view_module": "@jupyter-widgets/controls",
            "_model_module_version": "1.5.0",
            "value": 1,
            "_view_count": null,
            "_view_module_version": "1.5.0",
            "orientation": "horizontal",
            "min": 0,
            "description_tooltip": null,
            "_model_module": "@jupyter-widgets/controls",
            "layout": "IPY_MODEL_698bdc336ea04ee6ad19b6311f276ee6"
          }
        },
        "3c1a75a4f15645b690917cc730921614": {
          "model_module": "@jupyter-widgets/controls",
          "model_name": "HTMLModel",
          "state": {
            "_view_name": "HTMLView",
            "style": "IPY_MODEL_4215af9a282a422fb9cd579978c69dc8",
            "_dom_classes": [],
            "description": "",
            "_model_name": "HTMLModel",
            "placeholder": "​",
            "_view_module": "@jupyter-widgets/controls",
            "_model_module_version": "1.5.0",
            "value": " 1/1 [00:04&lt;00:00,  4.59s/ url]",
            "_view_count": null,
            "_view_module_version": "1.5.0",
            "description_tooltip": null,
            "_model_module": "@jupyter-widgets/controls",
            "layout": "IPY_MODEL_a93cc33d9f904ac4a2753a460267e339"
          }
        },
        "8fb4f466a8ae42cf8fbde0ce639db44a": {
          "model_module": "@jupyter-widgets/controls",
          "model_name": "ProgressStyleModel",
          "state": {
            "_view_name": "StyleView",
            "_model_name": "ProgressStyleModel",
            "description_width": "initial",
            "_view_module": "@jupyter-widgets/base",
            "_model_module_version": "1.5.0",
            "_view_count": null,
            "_view_module_version": "1.2.0",
            "bar_color": null,
            "_model_module": "@jupyter-widgets/controls"
          }
        },
        "698bdc336ea04ee6ad19b6311f276ee6": {
          "model_module": "@jupyter-widgets/base",
          "model_name": "LayoutModel",
          "state": {
            "_view_name": "LayoutView",
            "grid_template_rows": null,
            "right": null,
            "justify_content": null,
            "_view_module": "@jupyter-widgets/base",
            "overflow": null,
            "_model_module_version": "1.2.0",
            "_view_count": null,
            "flex_flow": null,
            "width": null,
            "min_width": null,
            "border": null,
            "align_items": null,
            "bottom": null,
            "_model_module": "@jupyter-widgets/base",
            "top": null,
            "grid_column": null,
            "overflow_y": null,
            "overflow_x": null,
            "grid_auto_flow": null,
            "grid_area": null,
            "grid_template_columns": null,
            "flex": null,
            "_model_name": "LayoutModel",
            "justify_items": null,
            "grid_row": null,
            "max_height": null,
            "align_content": null,
            "visibility": null,
            "align_self": null,
            "height": null,
            "min_height": null,
            "padding": null,
            "grid_auto_rows": null,
            "grid_gap": null,
            "max_width": null,
            "order": null,
            "_view_module_version": "1.2.0",
            "grid_template_areas": null,
            "object_position": null,
            "object_fit": null,
            "grid_auto_columns": null,
            "margin": null,
            "display": null,
            "left": null
          }
        },
        "4215af9a282a422fb9cd579978c69dc8": {
          "model_module": "@jupyter-widgets/controls",
          "model_name": "DescriptionStyleModel",
          "state": {
            "_view_name": "StyleView",
            "_model_name": "DescriptionStyleModel",
            "description_width": "",
            "_view_module": "@jupyter-widgets/base",
            "_model_module_version": "1.5.0",
            "_view_count": null,
            "_view_module_version": "1.2.0",
            "_model_module": "@jupyter-widgets/controls"
          }
        },
        "a93cc33d9f904ac4a2753a460267e339": {
          "model_module": "@jupyter-widgets/base",
          "model_name": "LayoutModel",
          "state": {
            "_view_name": "LayoutView",
            "grid_template_rows": null,
            "right": null,
            "justify_content": null,
            "_view_module": "@jupyter-widgets/base",
            "overflow": null,
            "_model_module_version": "1.2.0",
            "_view_count": null,
            "flex_flow": null,
            "width": null,
            "min_width": null,
            "border": null,
            "align_items": null,
            "bottom": null,
            "_model_module": "@jupyter-widgets/base",
            "top": null,
            "grid_column": null,
            "overflow_y": null,
            "overflow_x": null,
            "grid_auto_flow": null,
            "grid_area": null,
            "grid_template_columns": null,
            "flex": null,
            "_model_name": "LayoutModel",
            "justify_items": null,
            "grid_row": null,
            "max_height": null,
            "align_content": null,
            "visibility": null,
            "align_self": null,
            "height": null,
            "min_height": null,
            "padding": null,
            "grid_auto_rows": null,
            "grid_gap": null,
            "max_width": null,
            "order": null,
            "_view_module_version": "1.2.0",
            "grid_template_areas": null,
            "object_position": null,
            "object_fit": null,
            "grid_auto_columns": null,
            "margin": null,
            "display": null,
            "left": null
          }
        },
        "9cec930eab2b49d2b133e5e5c279d21b": {
          "model_module": "@jupyter-widgets/controls",
          "model_name": "HBoxModel",
          "state": {
            "_view_name": "HBoxView",
            "_dom_classes": [],
            "_model_name": "HBoxModel",
            "_view_module": "@jupyter-widgets/controls",
            "_model_module_version": "1.5.0",
            "_view_count": null,
            "_view_module_version": "1.5.0",
            "box_style": "",
            "layout": "IPY_MODEL_3c8f9ad04b574fe4b6458d5c56f2b546",
            "_model_module": "@jupyter-widgets/controls",
            "children": [
              "IPY_MODEL_bf04d7b506fd4eb9808dc1b1572f9184",
              "IPY_MODEL_c800e947e82445f285db2ce28022a24d"
            ]
          }
        },
        "3c8f9ad04b574fe4b6458d5c56f2b546": {
          "model_module": "@jupyter-widgets/base",
          "model_name": "LayoutModel",
          "state": {
            "_view_name": "LayoutView",
            "grid_template_rows": null,
            "right": null,
            "justify_content": null,
            "_view_module": "@jupyter-widgets/base",
            "overflow": null,
            "_model_module_version": "1.2.0",
            "_view_count": null,
            "flex_flow": null,
            "width": null,
            "min_width": null,
            "border": null,
            "align_items": null,
            "bottom": null,
            "_model_module": "@jupyter-widgets/base",
            "top": null,
            "grid_column": null,
            "overflow_y": null,
            "overflow_x": null,
            "grid_auto_flow": null,
            "grid_area": null,
            "grid_template_columns": null,
            "flex": null,
            "_model_name": "LayoutModel",
            "justify_items": null,
            "grid_row": null,
            "max_height": null,
            "align_content": null,
            "visibility": null,
            "align_self": null,
            "height": null,
            "min_height": null,
            "padding": null,
            "grid_auto_rows": null,
            "grid_gap": null,
            "max_width": null,
            "order": null,
            "_view_module_version": "1.2.0",
            "grid_template_areas": null,
            "object_position": null,
            "object_fit": null,
            "grid_auto_columns": null,
            "margin": null,
            "display": null,
            "left": null
          }
        },
        "bf04d7b506fd4eb9808dc1b1572f9184": {
          "model_module": "@jupyter-widgets/controls",
          "model_name": "FloatProgressModel",
          "state": {
            "_view_name": "ProgressView",
            "style": "IPY_MODEL_82a24d231fe14b959b93f7f2437dd188",
            "_dom_classes": [],
            "description": "Dl Size...: 100%",
            "_model_name": "FloatProgressModel",
            "bar_style": "success",
            "max": 1,
            "_view_module": "@jupyter-widgets/controls",
            "_model_module_version": "1.5.0",
            "value": 1,
            "_view_count": null,
            "_view_module_version": "1.5.0",
            "orientation": "horizontal",
            "min": 0,
            "description_tooltip": null,
            "_model_module": "@jupyter-widgets/controls",
            "layout": "IPY_MODEL_1c157a22b9e449c8a6b5e66d37ba7ed1"
          }
        },
        "c800e947e82445f285db2ce28022a24d": {
          "model_module": "@jupyter-widgets/controls",
          "model_name": "HTMLModel",
          "state": {
            "_view_name": "HTMLView",
            "style": "IPY_MODEL_d899f61fa75741358188357e3c573f61",
            "_dom_classes": [],
            "description": "",
            "_model_name": "HTMLModel",
            "placeholder": "​",
            "_view_module": "@jupyter-widgets/controls",
            "_model_module_version": "1.5.0",
            "value": " 21/21 [00:04&lt;00:00,  4.60 MiB/s]",
            "_view_count": null,
            "_view_module_version": "1.5.0",
            "description_tooltip": null,
            "_model_module": "@jupyter-widgets/controls",
            "layout": "IPY_MODEL_27b5a65986b548a4a59e567372cd3b7c"
          }
        },
        "82a24d231fe14b959b93f7f2437dd188": {
          "model_module": "@jupyter-widgets/controls",
          "model_name": "ProgressStyleModel",
          "state": {
            "_view_name": "StyleView",
            "_model_name": "ProgressStyleModel",
            "description_width": "initial",
            "_view_module": "@jupyter-widgets/base",
            "_model_module_version": "1.5.0",
            "_view_count": null,
            "_view_module_version": "1.2.0",
            "bar_color": null,
            "_model_module": "@jupyter-widgets/controls"
          }
        },
        "1c157a22b9e449c8a6b5e66d37ba7ed1": {
          "model_module": "@jupyter-widgets/base",
          "model_name": "LayoutModel",
          "state": {
            "_view_name": "LayoutView",
            "grid_template_rows": null,
            "right": null,
            "justify_content": null,
            "_view_module": "@jupyter-widgets/base",
            "overflow": null,
            "_model_module_version": "1.2.0",
            "_view_count": null,
            "flex_flow": null,
            "width": null,
            "min_width": null,
            "border": null,
            "align_items": null,
            "bottom": null,
            "_model_module": "@jupyter-widgets/base",
            "top": null,
            "grid_column": null,
            "overflow_y": null,
            "overflow_x": null,
            "grid_auto_flow": null,
            "grid_area": null,
            "grid_template_columns": null,
            "flex": null,
            "_model_name": "LayoutModel",
            "justify_items": null,
            "grid_row": null,
            "max_height": null,
            "align_content": null,
            "visibility": null,
            "align_self": null,
            "height": null,
            "min_height": null,
            "padding": null,
            "grid_auto_rows": null,
            "grid_gap": null,
            "max_width": null,
            "order": null,
            "_view_module_version": "1.2.0",
            "grid_template_areas": null,
            "object_position": null,
            "object_fit": null,
            "grid_auto_columns": null,
            "margin": null,
            "display": null,
            "left": null
          }
        },
        "d899f61fa75741358188357e3c573f61": {
          "model_module": "@jupyter-widgets/controls",
          "model_name": "DescriptionStyleModel",
          "state": {
            "_view_name": "StyleView",
            "_model_name": "DescriptionStyleModel",
            "description_width": "",
            "_view_module": "@jupyter-widgets/base",
            "_model_module_version": "1.5.0",
            "_view_count": null,
            "_view_module_version": "1.2.0",
            "_model_module": "@jupyter-widgets/controls"
          }
        },
        "27b5a65986b548a4a59e567372cd3b7c": {
          "model_module": "@jupyter-widgets/base",
          "model_name": "LayoutModel",
          "state": {
            "_view_name": "LayoutView",
            "grid_template_rows": null,
            "right": null,
            "justify_content": null,
            "_view_module": "@jupyter-widgets/base",
            "overflow": null,
            "_model_module_version": "1.2.0",
            "_view_count": null,
            "flex_flow": null,
            "width": null,
            "min_width": null,
            "border": null,
            "align_items": null,
            "bottom": null,
            "_model_module": "@jupyter-widgets/base",
            "top": null,
            "grid_column": null,
            "overflow_y": null,
            "overflow_x": null,
            "grid_auto_flow": null,
            "grid_area": null,
            "grid_template_columns": null,
            "flex": null,
            "_model_name": "LayoutModel",
            "justify_items": null,
            "grid_row": null,
            "max_height": null,
            "align_content": null,
            "visibility": null,
            "align_self": null,
            "height": null,
            "min_height": null,
            "padding": null,
            "grid_auto_rows": null,
            "grid_gap": null,
            "max_width": null,
            "order": null,
            "_view_module_version": "1.2.0",
            "grid_template_areas": null,
            "object_position": null,
            "object_fit": null,
            "grid_auto_columns": null,
            "margin": null,
            "display": null,
            "left": null
          }
        },
        "76e1d543d14a4c1e8395402d008ad9e9": {
          "model_module": "@jupyter-widgets/controls",
          "model_name": "HBoxModel",
          "state": {
            "_view_name": "HBoxView",
            "_dom_classes": [],
            "_model_name": "HBoxModel",
            "_view_module": "@jupyter-widgets/controls",
            "_model_module_version": "1.5.0",
            "_view_count": null,
            "_view_module_version": "1.5.0",
            "box_style": "",
            "layout": "IPY_MODEL_9b0f06f47a104dd89c14685ddb813750",
            "_model_module": "@jupyter-widgets/controls",
            "children": [
              "IPY_MODEL_602fd18ea109487293fd2bf118628aea",
              "IPY_MODEL_9dab38ff1c0b48c2992be6badd2c8c65"
            ]
          }
        },
        "9b0f06f47a104dd89c14685ddb813750": {
          "model_module": "@jupyter-widgets/base",
          "model_name": "LayoutModel",
          "state": {
            "_view_name": "LayoutView",
            "grid_template_rows": null,
            "right": null,
            "justify_content": null,
            "_view_module": "@jupyter-widgets/base",
            "overflow": null,
            "_model_module_version": "1.2.0",
            "_view_count": null,
            "flex_flow": null,
            "width": null,
            "min_width": null,
            "border": null,
            "align_items": null,
            "bottom": null,
            "_model_module": "@jupyter-widgets/base",
            "top": null,
            "grid_column": null,
            "overflow_y": null,
            "overflow_x": null,
            "grid_auto_flow": null,
            "grid_area": null,
            "grid_template_columns": null,
            "flex": null,
            "_model_name": "LayoutModel",
            "justify_items": null,
            "grid_row": null,
            "max_height": null,
            "align_content": null,
            "visibility": null,
            "align_self": null,
            "height": null,
            "min_height": null,
            "padding": null,
            "grid_auto_rows": null,
            "grid_gap": null,
            "max_width": null,
            "order": null,
            "_view_module_version": "1.2.0",
            "grid_template_areas": null,
            "object_position": null,
            "object_fit": null,
            "grid_auto_columns": null,
            "margin": null,
            "display": null,
            "left": null
          }
        },
        "602fd18ea109487293fd2bf118628aea": {
          "model_module": "@jupyter-widgets/controls",
          "model_name": "FloatProgressModel",
          "state": {
            "_view_name": "ProgressView",
            "style": "IPY_MODEL_461a2caca4cc4ce7b92a35df18328e0f",
            "_dom_classes": [],
            "description": "Extraction completed...: 100%",
            "_model_name": "FloatProgressModel",
            "bar_style": "success",
            "max": 1,
            "_view_module": "@jupyter-widgets/controls",
            "_model_module_version": "1.5.0",
            "value": 1,
            "_view_count": null,
            "_view_module_version": "1.5.0",
            "orientation": "horizontal",
            "min": 0,
            "description_tooltip": null,
            "_model_module": "@jupyter-widgets/controls",
            "layout": "IPY_MODEL_f9371a33b0104aaca720832d8990010e"
          }
        },
        "9dab38ff1c0b48c2992be6badd2c8c65": {
          "model_module": "@jupyter-widgets/controls",
          "model_name": "HTMLModel",
          "state": {
            "_view_name": "HTMLView",
            "style": "IPY_MODEL_a90692a2d17846279d553fa0b4e8314b",
            "_dom_classes": [],
            "description": "",
            "_model_name": "HTMLModel",
            "placeholder": "​",
            "_view_module": "@jupyter-widgets/controls",
            "_model_module_version": "1.5.0",
            "value": " 1/1 [00:04&lt;00:00,  4.52s/ file]",
            "_view_count": null,
            "_view_module_version": "1.5.0",
            "description_tooltip": null,
            "_model_module": "@jupyter-widgets/controls",
            "layout": "IPY_MODEL_a6c9cdf64a9044c0bfe96995e3a0223c"
          }
        },
        "461a2caca4cc4ce7b92a35df18328e0f": {
          "model_module": "@jupyter-widgets/controls",
          "model_name": "ProgressStyleModel",
          "state": {
            "_view_name": "StyleView",
            "_model_name": "ProgressStyleModel",
            "description_width": "initial",
            "_view_module": "@jupyter-widgets/base",
            "_model_module_version": "1.5.0",
            "_view_count": null,
            "_view_module_version": "1.2.0",
            "bar_color": null,
            "_model_module": "@jupyter-widgets/controls"
          }
        },
        "f9371a33b0104aaca720832d8990010e": {
          "model_module": "@jupyter-widgets/base",
          "model_name": "LayoutModel",
          "state": {
            "_view_name": "LayoutView",
            "grid_template_rows": null,
            "right": null,
            "justify_content": null,
            "_view_module": "@jupyter-widgets/base",
            "overflow": null,
            "_model_module_version": "1.2.0",
            "_view_count": null,
            "flex_flow": null,
            "width": null,
            "min_width": null,
            "border": null,
            "align_items": null,
            "bottom": null,
            "_model_module": "@jupyter-widgets/base",
            "top": null,
            "grid_column": null,
            "overflow_y": null,
            "overflow_x": null,
            "grid_auto_flow": null,
            "grid_area": null,
            "grid_template_columns": null,
            "flex": null,
            "_model_name": "LayoutModel",
            "justify_items": null,
            "grid_row": null,
            "max_height": null,
            "align_content": null,
            "visibility": null,
            "align_self": null,
            "height": null,
            "min_height": null,
            "padding": null,
            "grid_auto_rows": null,
            "grid_gap": null,
            "max_width": null,
            "order": null,
            "_view_module_version": "1.2.0",
            "grid_template_areas": null,
            "object_position": null,
            "object_fit": null,
            "grid_auto_columns": null,
            "margin": null,
            "display": null,
            "left": null
          }
        },
        "a90692a2d17846279d553fa0b4e8314b": {
          "model_module": "@jupyter-widgets/controls",
          "model_name": "DescriptionStyleModel",
          "state": {
            "_view_name": "StyleView",
            "_model_name": "DescriptionStyleModel",
            "description_width": "",
            "_view_module": "@jupyter-widgets/base",
            "_model_module_version": "1.5.0",
            "_view_count": null,
            "_view_module_version": "1.2.0",
            "_model_module": "@jupyter-widgets/controls"
          }
        },
        "a6c9cdf64a9044c0bfe96995e3a0223c": {
          "model_module": "@jupyter-widgets/base",
          "model_name": "LayoutModel",
          "state": {
            "_view_name": "LayoutView",
            "grid_template_rows": null,
            "right": null,
            "justify_content": null,
            "_view_module": "@jupyter-widgets/base",
            "overflow": null,
            "_model_module_version": "1.2.0",
            "_view_count": null,
            "flex_flow": null,
            "width": null,
            "min_width": null,
            "border": null,
            "align_items": null,
            "bottom": null,
            "_model_module": "@jupyter-widgets/base",
            "top": null,
            "grid_column": null,
            "overflow_y": null,
            "overflow_x": null,
            "grid_auto_flow": null,
            "grid_area": null,
            "grid_template_columns": null,
            "flex": null,
            "_model_name": "LayoutModel",
            "justify_items": null,
            "grid_row": null,
            "max_height": null,
            "align_content": null,
            "visibility": null,
            "align_self": null,
            "height": null,
            "min_height": null,
            "padding": null,
            "grid_auto_rows": null,
            "grid_gap": null,
            "max_width": null,
            "order": null,
            "_view_module_version": "1.2.0",
            "grid_template_areas": null,
            "object_position": null,
            "object_fit": null,
            "grid_auto_columns": null,
            "margin": null,
            "display": null,
            "left": null
          }
        },
        "6d9ceb9f27ec4416b27b954105751af0": {
          "model_module": "@jupyter-widgets/controls",
          "model_name": "HBoxModel",
          "state": {
            "_view_name": "HBoxView",
            "_dom_classes": [],
            "_model_name": "HBoxModel",
            "_view_module": "@jupyter-widgets/controls",
            "_model_module_version": "1.5.0",
            "_view_count": null,
            "_view_module_version": "1.5.0",
            "box_style": "",
            "layout": "IPY_MODEL_6bb8fd82b27447338195f6bc6ffa1ae7",
            "_model_module": "@jupyter-widgets/controls",
            "children": [
              "IPY_MODEL_448d6ed0f00c405c906196a3f74eb800",
              "IPY_MODEL_12c3c959fe5847418c878ddccbea3e63"
            ]
          }
        },
        "6bb8fd82b27447338195f6bc6ffa1ae7": {
          "model_module": "@jupyter-widgets/base",
          "model_name": "LayoutModel",
          "state": {
            "_view_name": "LayoutView",
            "grid_template_rows": null,
            "right": null,
            "justify_content": null,
            "_view_module": "@jupyter-widgets/base",
            "overflow": null,
            "_model_module_version": "1.2.0",
            "_view_count": null,
            "flex_flow": null,
            "width": null,
            "min_width": null,
            "border": null,
            "align_items": null,
            "bottom": null,
            "_model_module": "@jupyter-widgets/base",
            "top": null,
            "grid_column": null,
            "overflow_y": null,
            "overflow_x": null,
            "grid_auto_flow": null,
            "grid_area": null,
            "grid_template_columns": null,
            "flex": null,
            "_model_name": "LayoutModel",
            "justify_items": null,
            "grid_row": null,
            "max_height": null,
            "align_content": null,
            "visibility": null,
            "align_self": null,
            "height": null,
            "min_height": null,
            "padding": null,
            "grid_auto_rows": null,
            "grid_gap": null,
            "max_width": null,
            "order": null,
            "_view_module_version": "1.2.0",
            "grid_template_areas": null,
            "object_position": null,
            "object_fit": null,
            "grid_auto_columns": null,
            "margin": null,
            "display": null,
            "left": null
          }
        },
        "448d6ed0f00c405c906196a3f74eb800": {
          "model_module": "@jupyter-widgets/controls",
          "model_name": "FloatProgressModel",
          "state": {
            "_view_name": "ProgressView",
            "style": "IPY_MODEL_97a78fc61d444dd9ad80a07f33102170",
            "_dom_classes": [],
            "description": "",
            "_model_name": "FloatProgressModel",
            "bar_style": "info",
            "max": 1,
            "_view_module": "@jupyter-widgets/controls",
            "_model_module_version": "1.5.0",
            "value": 1,
            "_view_count": null,
            "_view_module_version": "1.5.0",
            "orientation": "horizontal",
            "min": 0,
            "description_tooltip": null,
            "_model_module": "@jupyter-widgets/controls",
            "layout": "IPY_MODEL_b341ddaef6b14f9c8e5e25a05d8407c9"
          }
        },
        "12c3c959fe5847418c878ddccbea3e63": {
          "model_module": "@jupyter-widgets/controls",
          "model_name": "HTMLModel",
          "state": {
            "_view_name": "HTMLView",
            "style": "IPY_MODEL_37862cda1e2541c18a8d8a2c9d77a30d",
            "_dom_classes": [],
            "description": "",
            "_model_name": "HTMLModel",
            "placeholder": "​",
            "_view_module": "@jupyter-widgets/controls",
            "_model_module_version": "1.5.0",
            "value": " 104975/0 [02:49&lt;00:00, 703.22 examples/s]",
            "_view_count": null,
            "_view_module_version": "1.5.0",
            "description_tooltip": null,
            "_model_module": "@jupyter-widgets/controls",
            "layout": "IPY_MODEL_8193e59996544ddbb2e220885914b70e"
          }
        },
        "97a78fc61d444dd9ad80a07f33102170": {
          "model_module": "@jupyter-widgets/controls",
          "model_name": "ProgressStyleModel",
          "state": {
            "_view_name": "StyleView",
            "_model_name": "ProgressStyleModel",
            "description_width": "initial",
            "_view_module": "@jupyter-widgets/base",
            "_model_module_version": "1.5.0",
            "_view_count": null,
            "_view_module_version": "1.2.0",
            "bar_color": null,
            "_model_module": "@jupyter-widgets/controls"
          }
        },
        "b341ddaef6b14f9c8e5e25a05d8407c9": {
          "model_module": "@jupyter-widgets/base",
          "model_name": "LayoutModel",
          "state": {
            "_view_name": "LayoutView",
            "grid_template_rows": null,
            "right": null,
            "justify_content": null,
            "_view_module": "@jupyter-widgets/base",
            "overflow": null,
            "_model_module_version": "1.2.0",
            "_view_count": null,
            "flex_flow": null,
            "width": null,
            "min_width": null,
            "border": null,
            "align_items": null,
            "bottom": null,
            "_model_module": "@jupyter-widgets/base",
            "top": null,
            "grid_column": null,
            "overflow_y": null,
            "overflow_x": null,
            "grid_auto_flow": null,
            "grid_area": null,
            "grid_template_columns": null,
            "flex": null,
            "_model_name": "LayoutModel",
            "justify_items": null,
            "grid_row": null,
            "max_height": null,
            "align_content": null,
            "visibility": null,
            "align_self": null,
            "height": null,
            "min_height": null,
            "padding": null,
            "grid_auto_rows": null,
            "grid_gap": null,
            "max_width": null,
            "order": null,
            "_view_module_version": "1.2.0",
            "grid_template_areas": null,
            "object_position": null,
            "object_fit": null,
            "grid_auto_columns": null,
            "margin": null,
            "display": null,
            "left": null
          }
        },
        "37862cda1e2541c18a8d8a2c9d77a30d": {
          "model_module": "@jupyter-widgets/controls",
          "model_name": "DescriptionStyleModel",
          "state": {
            "_view_name": "StyleView",
            "_model_name": "DescriptionStyleModel",
            "description_width": "",
            "_view_module": "@jupyter-widgets/base",
            "_model_module_version": "1.5.0",
            "_view_count": null,
            "_view_module_version": "1.2.0",
            "_model_module": "@jupyter-widgets/controls"
          }
        },
        "8193e59996544ddbb2e220885914b70e": {
          "model_module": "@jupyter-widgets/base",
          "model_name": "LayoutModel",
          "state": {
            "_view_name": "LayoutView",
            "grid_template_rows": null,
            "right": null,
            "justify_content": null,
            "_view_module": "@jupyter-widgets/base",
            "overflow": null,
            "_model_module_version": "1.2.0",
            "_view_count": null,
            "flex_flow": null,
            "width": null,
            "min_width": null,
            "border": null,
            "align_items": null,
            "bottom": null,
            "_model_module": "@jupyter-widgets/base",
            "top": null,
            "grid_column": null,
            "overflow_y": null,
            "overflow_x": null,
            "grid_auto_flow": null,
            "grid_area": null,
            "grid_template_columns": null,
            "flex": null,
            "_model_name": "LayoutModel",
            "justify_items": null,
            "grid_row": null,
            "max_height": null,
            "align_content": null,
            "visibility": null,
            "align_self": null,
            "height": null,
            "min_height": null,
            "padding": null,
            "grid_auto_rows": null,
            "grid_gap": null,
            "max_width": null,
            "order": null,
            "_view_module_version": "1.2.0",
            "grid_template_areas": null,
            "object_position": null,
            "object_fit": null,
            "grid_auto_columns": null,
            "margin": null,
            "display": null,
            "left": null
          }
        },
        "81763c4cf4ec4cfd95b245611b1cc4df": {
          "model_module": "@jupyter-widgets/controls",
          "model_name": "HBoxModel",
          "state": {
            "_view_name": "HBoxView",
            "_dom_classes": [],
            "_model_name": "HBoxModel",
            "_view_module": "@jupyter-widgets/controls",
            "_model_module_version": "1.5.0",
            "_view_count": null,
            "_view_module_version": "1.5.0",
            "box_style": "",
            "layout": "IPY_MODEL_e36d1cc953eb4c0aa2a46badf75c317c",
            "_model_module": "@jupyter-widgets/controls",
            "children": [
              "IPY_MODEL_222dba065b9449ea949670de1cc2a594",
              "IPY_MODEL_67f9968282154a5c8eec8d76b97221ff"
            ]
          }
        },
        "e36d1cc953eb4c0aa2a46badf75c317c": {
          "model_module": "@jupyter-widgets/base",
          "model_name": "LayoutModel",
          "state": {
            "_view_name": "LayoutView",
            "grid_template_rows": null,
            "right": null,
            "justify_content": null,
            "_view_module": "@jupyter-widgets/base",
            "overflow": null,
            "_model_module_version": "1.2.0",
            "_view_count": null,
            "flex_flow": null,
            "width": null,
            "min_width": null,
            "border": null,
            "align_items": null,
            "bottom": null,
            "_model_module": "@jupyter-widgets/base",
            "top": null,
            "grid_column": null,
            "overflow_y": null,
            "overflow_x": null,
            "grid_auto_flow": null,
            "grid_area": null,
            "grid_template_columns": null,
            "flex": null,
            "_model_name": "LayoutModel",
            "justify_items": null,
            "grid_row": null,
            "max_height": null,
            "align_content": null,
            "visibility": null,
            "align_self": null,
            "height": null,
            "min_height": null,
            "padding": null,
            "grid_auto_rows": null,
            "grid_gap": null,
            "max_width": null,
            "order": null,
            "_view_module_version": "1.2.0",
            "grid_template_areas": null,
            "object_position": null,
            "object_fit": null,
            "grid_auto_columns": null,
            "margin": null,
            "display": null,
            "left": null
          }
        },
        "222dba065b9449ea949670de1cc2a594": {
          "model_module": "@jupyter-widgets/controls",
          "model_name": "FloatProgressModel",
          "state": {
            "_view_name": "ProgressView",
            "style": "IPY_MODEL_c87dd98c0f2746cf8ea170d4305d0fa4",
            "_dom_classes": [],
            "description": " 86%",
            "_model_name": "FloatProgressModel",
            "bar_style": "danger",
            "max": 104975,
            "_view_module": "@jupyter-widgets/controls",
            "_model_module_version": "1.5.0",
            "value": 90322,
            "_view_count": null,
            "_view_module_version": "1.5.0",
            "orientation": "horizontal",
            "min": 0,
            "description_tooltip": null,
            "_model_module": "@jupyter-widgets/controls",
            "layout": "IPY_MODEL_a81e684696f940dd9e3d261bcc60c503"
          }
        },
        "67f9968282154a5c8eec8d76b97221ff": {
          "model_module": "@jupyter-widgets/controls",
          "model_name": "HTMLModel",
          "state": {
            "_view_name": "HTMLView",
            "style": "IPY_MODEL_ee9e39c292774454b91bbefcd159fe58",
            "_dom_classes": [],
            "description": "",
            "_model_name": "HTMLModel",
            "placeholder": "​",
            "_view_module": "@jupyter-widgets/controls",
            "_model_module_version": "1.5.0",
            "value": " 90322/104975 [00:00&lt;08:42, 28.05 examples/s]",
            "_view_count": null,
            "_view_module_version": "1.5.0",
            "description_tooltip": null,
            "_model_module": "@jupyter-widgets/controls",
            "layout": "IPY_MODEL_22d9ea97aa934eaa90bc34d880316211"
          }
        },
        "c87dd98c0f2746cf8ea170d4305d0fa4": {
          "model_module": "@jupyter-widgets/controls",
          "model_name": "ProgressStyleModel",
          "state": {
            "_view_name": "StyleView",
            "_model_name": "ProgressStyleModel",
            "description_width": "initial",
            "_view_module": "@jupyter-widgets/base",
            "_model_module_version": "1.5.0",
            "_view_count": null,
            "_view_module_version": "1.2.0",
            "bar_color": null,
            "_model_module": "@jupyter-widgets/controls"
          }
        },
        "a81e684696f940dd9e3d261bcc60c503": {
          "model_module": "@jupyter-widgets/base",
          "model_name": "LayoutModel",
          "state": {
            "_view_name": "LayoutView",
            "grid_template_rows": null,
            "right": null,
            "justify_content": null,
            "_view_module": "@jupyter-widgets/base",
            "overflow": null,
            "_model_module_version": "1.2.0",
            "_view_count": null,
            "flex_flow": null,
            "width": null,
            "min_width": null,
            "border": null,
            "align_items": null,
            "bottom": null,
            "_model_module": "@jupyter-widgets/base",
            "top": null,
            "grid_column": null,
            "overflow_y": null,
            "overflow_x": null,
            "grid_auto_flow": null,
            "grid_area": null,
            "grid_template_columns": null,
            "flex": null,
            "_model_name": "LayoutModel",
            "justify_items": null,
            "grid_row": null,
            "max_height": null,
            "align_content": null,
            "visibility": null,
            "align_self": null,
            "height": null,
            "min_height": null,
            "padding": null,
            "grid_auto_rows": null,
            "grid_gap": null,
            "max_width": null,
            "order": null,
            "_view_module_version": "1.2.0",
            "grid_template_areas": null,
            "object_position": null,
            "object_fit": null,
            "grid_auto_columns": null,
            "margin": null,
            "display": null,
            "left": null
          }
        },
        "ee9e39c292774454b91bbefcd159fe58": {
          "model_module": "@jupyter-widgets/controls",
          "model_name": "DescriptionStyleModel",
          "state": {
            "_view_name": "StyleView",
            "_model_name": "DescriptionStyleModel",
            "description_width": "",
            "_view_module": "@jupyter-widgets/base",
            "_model_module_version": "1.5.0",
            "_view_count": null,
            "_view_module_version": "1.2.0",
            "_model_module": "@jupyter-widgets/controls"
          }
        },
        "22d9ea97aa934eaa90bc34d880316211": {
          "model_module": "@jupyter-widgets/base",
          "model_name": "LayoutModel",
          "state": {
            "_view_name": "LayoutView",
            "grid_template_rows": null,
            "right": null,
            "justify_content": null,
            "_view_module": "@jupyter-widgets/base",
            "overflow": null,
            "_model_module_version": "1.2.0",
            "_view_count": null,
            "flex_flow": null,
            "width": null,
            "min_width": null,
            "border": null,
            "align_items": null,
            "bottom": null,
            "_model_module": "@jupyter-widgets/base",
            "top": null,
            "grid_column": null,
            "overflow_y": null,
            "overflow_x": null,
            "grid_auto_flow": null,
            "grid_area": null,
            "grid_template_columns": null,
            "flex": null,
            "_model_name": "LayoutModel",
            "justify_items": null,
            "grid_row": null,
            "max_height": null,
            "align_content": null,
            "visibility": null,
            "align_self": null,
            "height": null,
            "min_height": null,
            "padding": null,
            "grid_auto_rows": null,
            "grid_gap": null,
            "max_width": null,
            "order": null,
            "_view_module_version": "1.2.0",
            "grid_template_areas": null,
            "object_position": null,
            "object_fit": null,
            "grid_auto_columns": null,
            "margin": null,
            "display": null,
            "left": null
          }
        },
        "abafbb8e15cf43a8989571b2c0bd092c": {
          "model_module": "@jupyter-widgets/controls",
          "model_name": "HBoxModel",
          "state": {
            "_view_name": "HBoxView",
            "_dom_classes": [],
            "_model_name": "HBoxModel",
            "_view_module": "@jupyter-widgets/controls",
            "_model_module_version": "1.5.0",
            "_view_count": null,
            "_view_module_version": "1.5.0",
            "box_style": "",
            "layout": "IPY_MODEL_d45906676fb84e878188389befeaef42",
            "_model_module": "@jupyter-widgets/controls",
            "children": [
              "IPY_MODEL_fcd50ba6879c43b0898a89c2739142f1",
              "IPY_MODEL_68ad8bc04e964d0fb1214d9a9e7cab53"
            ]
          }
        },
        "d45906676fb84e878188389befeaef42": {
          "model_module": "@jupyter-widgets/base",
          "model_name": "LayoutModel",
          "state": {
            "_view_name": "LayoutView",
            "grid_template_rows": null,
            "right": null,
            "justify_content": null,
            "_view_module": "@jupyter-widgets/base",
            "overflow": null,
            "_model_module_version": "1.2.0",
            "_view_count": null,
            "flex_flow": null,
            "width": null,
            "min_width": null,
            "border": null,
            "align_items": null,
            "bottom": null,
            "_model_module": "@jupyter-widgets/base",
            "top": null,
            "grid_column": null,
            "overflow_y": null,
            "overflow_x": null,
            "grid_auto_flow": null,
            "grid_area": null,
            "grid_template_columns": null,
            "flex": null,
            "_model_name": "LayoutModel",
            "justify_items": null,
            "grid_row": null,
            "max_height": null,
            "align_content": null,
            "visibility": null,
            "align_self": null,
            "height": null,
            "min_height": null,
            "padding": null,
            "grid_auto_rows": null,
            "grid_gap": null,
            "max_width": null,
            "order": null,
            "_view_module_version": "1.2.0",
            "grid_template_areas": null,
            "object_position": null,
            "object_fit": null,
            "grid_auto_columns": null,
            "margin": null,
            "display": null,
            "left": null
          }
        },
        "fcd50ba6879c43b0898a89c2739142f1": {
          "model_module": "@jupyter-widgets/controls",
          "model_name": "FloatProgressModel",
          "state": {
            "_view_name": "ProgressView",
            "style": "IPY_MODEL_18623abe3e034d88808b0d747fa1a520",
            "_dom_classes": [],
            "description": "Computing statistics...: 100%",
            "_model_name": "FloatProgressModel",
            "bar_style": "success",
            "max": 1,
            "_view_module": "@jupyter-widgets/controls",
            "_model_module_version": "1.5.0",
            "value": 1,
            "_view_count": null,
            "_view_module_version": "1.5.0",
            "orientation": "horizontal",
            "min": 0,
            "description_tooltip": null,
            "_model_module": "@jupyter-widgets/controls",
            "layout": "IPY_MODEL_12e93b50916b4006b2e27de44aa7b5a9"
          }
        },
        "68ad8bc04e964d0fb1214d9a9e7cab53": {
          "model_module": "@jupyter-widgets/controls",
          "model_name": "HTMLModel",
          "state": {
            "_view_name": "HTMLView",
            "style": "IPY_MODEL_63d044d54c2e4353a22aec0f2b82563d",
            "_dom_classes": [],
            "description": "",
            "_model_name": "HTMLModel",
            "placeholder": "​",
            "_view_module": "@jupyter-widgets/controls",
            "_model_module_version": "1.5.0",
            "value": " 1/1 [01:01&lt;00:00, 61.29s/ split]",
            "_view_count": null,
            "_view_module_version": "1.5.0",
            "description_tooltip": null,
            "_model_module": "@jupyter-widgets/controls",
            "layout": "IPY_MODEL_0ed5d144144146bbb2a9eb5bdef0ff75"
          }
        },
        "18623abe3e034d88808b0d747fa1a520": {
          "model_module": "@jupyter-widgets/controls",
          "model_name": "ProgressStyleModel",
          "state": {
            "_view_name": "StyleView",
            "_model_name": "ProgressStyleModel",
            "description_width": "initial",
            "_view_module": "@jupyter-widgets/base",
            "_model_module_version": "1.5.0",
            "_view_count": null,
            "_view_module_version": "1.2.0",
            "bar_color": null,
            "_model_module": "@jupyter-widgets/controls"
          }
        },
        "12e93b50916b4006b2e27de44aa7b5a9": {
          "model_module": "@jupyter-widgets/base",
          "model_name": "LayoutModel",
          "state": {
            "_view_name": "LayoutView",
            "grid_template_rows": null,
            "right": null,
            "justify_content": null,
            "_view_module": "@jupyter-widgets/base",
            "overflow": null,
            "_model_module_version": "1.2.0",
            "_view_count": null,
            "flex_flow": null,
            "width": null,
            "min_width": null,
            "border": null,
            "align_items": null,
            "bottom": null,
            "_model_module": "@jupyter-widgets/base",
            "top": null,
            "grid_column": null,
            "overflow_y": null,
            "overflow_x": null,
            "grid_auto_flow": null,
            "grid_area": null,
            "grid_template_columns": null,
            "flex": null,
            "_model_name": "LayoutModel",
            "justify_items": null,
            "grid_row": null,
            "max_height": null,
            "align_content": null,
            "visibility": null,
            "align_self": null,
            "height": null,
            "min_height": null,
            "padding": null,
            "grid_auto_rows": null,
            "grid_gap": null,
            "max_width": null,
            "order": null,
            "_view_module_version": "1.2.0",
            "grid_template_areas": null,
            "object_position": null,
            "object_fit": null,
            "grid_auto_columns": null,
            "margin": null,
            "display": null,
            "left": null
          }
        },
        "63d044d54c2e4353a22aec0f2b82563d": {
          "model_module": "@jupyter-widgets/controls",
          "model_name": "DescriptionStyleModel",
          "state": {
            "_view_name": "StyleView",
            "_model_name": "DescriptionStyleModel",
            "description_width": "",
            "_view_module": "@jupyter-widgets/base",
            "_model_module_version": "1.5.0",
            "_view_count": null,
            "_view_module_version": "1.2.0",
            "_model_module": "@jupyter-widgets/controls"
          }
        },
        "0ed5d144144146bbb2a9eb5bdef0ff75": {
          "model_module": "@jupyter-widgets/base",
          "model_name": "LayoutModel",
          "state": {
            "_view_name": "LayoutView",
            "grid_template_rows": null,
            "right": null,
            "justify_content": null,
            "_view_module": "@jupyter-widgets/base",
            "overflow": null,
            "_model_module_version": "1.2.0",
            "_view_count": null,
            "flex_flow": null,
            "width": null,
            "min_width": null,
            "border": null,
            "align_items": null,
            "bottom": null,
            "_model_module": "@jupyter-widgets/base",
            "top": null,
            "grid_column": null,
            "overflow_y": null,
            "overflow_x": null,
            "grid_auto_flow": null,
            "grid_area": null,
            "grid_template_columns": null,
            "flex": null,
            "_model_name": "LayoutModel",
            "justify_items": null,
            "grid_row": null,
            "max_height": null,
            "align_content": null,
            "visibility": null,
            "align_self": null,
            "height": null,
            "min_height": null,
            "padding": null,
            "grid_auto_rows": null,
            "grid_gap": null,
            "max_width": null,
            "order": null,
            "_view_module_version": "1.2.0",
            "grid_template_areas": null,
            "object_position": null,
            "object_fit": null,
            "grid_auto_columns": null,
            "margin": null,
            "display": null,
            "left": null
          }
        },
        "baa1d3724b6a4bf9b03df105ce00306d": {
          "model_module": "@jupyter-widgets/controls",
          "model_name": "HBoxModel",
          "state": {
            "_view_name": "HBoxView",
            "_dom_classes": [],
            "_model_name": "HBoxModel",
            "_view_module": "@jupyter-widgets/controls",
            "_model_module_version": "1.5.0",
            "_view_count": null,
            "_view_module_version": "1.5.0",
            "box_style": "",
            "layout": "IPY_MODEL_554458090e814063a32e7eb5cd50363e",
            "_model_module": "@jupyter-widgets/controls",
            "children": [
              "IPY_MODEL_536798e2365441778043b5dd9f909489",
              "IPY_MODEL_35c6b74ec56e4610bc8f0b24c57f42cc"
            ]
          }
        },
        "554458090e814063a32e7eb5cd50363e": {
          "model_module": "@jupyter-widgets/base",
          "model_name": "LayoutModel",
          "state": {
            "_view_name": "LayoutView",
            "grid_template_rows": null,
            "right": null,
            "justify_content": null,
            "_view_module": "@jupyter-widgets/base",
            "overflow": null,
            "_model_module_version": "1.2.0",
            "_view_count": null,
            "flex_flow": null,
            "width": null,
            "min_width": null,
            "border": null,
            "align_items": null,
            "bottom": null,
            "_model_module": "@jupyter-widgets/base",
            "top": null,
            "grid_column": null,
            "overflow_y": null,
            "overflow_x": null,
            "grid_auto_flow": null,
            "grid_area": null,
            "grid_template_columns": null,
            "flex": null,
            "_model_name": "LayoutModel",
            "justify_items": null,
            "grid_row": null,
            "max_height": null,
            "align_content": null,
            "visibility": null,
            "align_self": null,
            "height": null,
            "min_height": null,
            "padding": null,
            "grid_auto_rows": null,
            "grid_gap": null,
            "max_width": null,
            "order": null,
            "_view_module_version": "1.2.0",
            "grid_template_areas": null,
            "object_position": null,
            "object_fit": null,
            "grid_auto_columns": null,
            "margin": null,
            "display": null,
            "left": null
          }
        },
        "536798e2365441778043b5dd9f909489": {
          "model_module": "@jupyter-widgets/controls",
          "model_name": "FloatProgressModel",
          "state": {
            "_view_name": "ProgressView",
            "style": "IPY_MODEL_cfd607afc1cf41a3b3f768625bc51169",
            "_dom_classes": [],
            "description": "",
            "_model_name": "FloatProgressModel",
            "bar_style": "info",
            "max": 1,
            "_view_module": "@jupyter-widgets/controls",
            "_model_module_version": "1.5.0",
            "value": 1,
            "_view_count": null,
            "_view_module_version": "1.5.0",
            "orientation": "horizontal",
            "min": 0,
            "description_tooltip": null,
            "_model_module": "@jupyter-widgets/controls",
            "layout": "IPY_MODEL_44ec5646d5c64f9fb727ab7529847252"
          }
        },
        "35c6b74ec56e4610bc8f0b24c57f42cc": {
          "model_module": "@jupyter-widgets/controls",
          "model_name": "HTMLModel",
          "state": {
            "_view_name": "HTMLView",
            "style": "IPY_MODEL_245d60794ef0490bac93dc662c0f91f1",
            "_dom_classes": [],
            "description": "",
            "_model_name": "HTMLModel",
            "placeholder": "​",
            "_view_module": "@jupyter-widgets/controls",
            "_model_module_version": "1.5.0",
            "value": " 104975/? [01:00&lt;00:00, 1821.06 examples/s]",
            "_view_count": null,
            "_view_module_version": "1.5.0",
            "description_tooltip": null,
            "_model_module": "@jupyter-widgets/controls",
            "layout": "IPY_MODEL_64ec8f77d57a4992adfd553ca4467655"
          }
        },
        "cfd607afc1cf41a3b3f768625bc51169": {
          "model_module": "@jupyter-widgets/controls",
          "model_name": "ProgressStyleModel",
          "state": {
            "_view_name": "StyleView",
            "_model_name": "ProgressStyleModel",
            "description_width": "initial",
            "_view_module": "@jupyter-widgets/base",
            "_model_module_version": "1.5.0",
            "_view_count": null,
            "_view_module_version": "1.2.0",
            "bar_color": null,
            "_model_module": "@jupyter-widgets/controls"
          }
        },
        "44ec5646d5c64f9fb727ab7529847252": {
          "model_module": "@jupyter-widgets/base",
          "model_name": "LayoutModel",
          "state": {
            "_view_name": "LayoutView",
            "grid_template_rows": null,
            "right": null,
            "justify_content": null,
            "_view_module": "@jupyter-widgets/base",
            "overflow": null,
            "_model_module_version": "1.2.0",
            "_view_count": null,
            "flex_flow": null,
            "width": null,
            "min_width": null,
            "border": null,
            "align_items": null,
            "bottom": null,
            "_model_module": "@jupyter-widgets/base",
            "top": null,
            "grid_column": null,
            "overflow_y": null,
            "overflow_x": null,
            "grid_auto_flow": null,
            "grid_area": null,
            "grid_template_columns": null,
            "flex": null,
            "_model_name": "LayoutModel",
            "justify_items": null,
            "grid_row": null,
            "max_height": null,
            "align_content": null,
            "visibility": null,
            "align_self": null,
            "height": null,
            "min_height": null,
            "padding": null,
            "grid_auto_rows": null,
            "grid_gap": null,
            "max_width": null,
            "order": null,
            "_view_module_version": "1.2.0",
            "grid_template_areas": null,
            "object_position": null,
            "object_fit": null,
            "grid_auto_columns": null,
            "margin": null,
            "display": null,
            "left": null
          }
        },
        "245d60794ef0490bac93dc662c0f91f1": {
          "model_module": "@jupyter-widgets/controls",
          "model_name": "DescriptionStyleModel",
          "state": {
            "_view_name": "StyleView",
            "_model_name": "DescriptionStyleModel",
            "description_width": "",
            "_view_module": "@jupyter-widgets/base",
            "_model_module_version": "1.5.0",
            "_view_count": null,
            "_view_module_version": "1.2.0",
            "_model_module": "@jupyter-widgets/controls"
          }
        },
        "64ec8f77d57a4992adfd553ca4467655": {
          "model_module": "@jupyter-widgets/base",
          "model_name": "LayoutModel",
          "state": {
            "_view_name": "LayoutView",
            "grid_template_rows": null,
            "right": null,
            "justify_content": null,
            "_view_module": "@jupyter-widgets/base",
            "overflow": null,
            "_model_module_version": "1.2.0",
            "_view_count": null,
            "flex_flow": null,
            "width": null,
            "min_width": null,
            "border": null,
            "align_items": null,
            "bottom": null,
            "_model_module": "@jupyter-widgets/base",
            "top": null,
            "grid_column": null,
            "overflow_y": null,
            "overflow_x": null,
            "grid_auto_flow": null,
            "grid_area": null,
            "grid_template_columns": null,
            "flex": null,
            "_model_name": "LayoutModel",
            "justify_items": null,
            "grid_row": null,
            "max_height": null,
            "align_content": null,
            "visibility": null,
            "align_self": null,
            "height": null,
            "min_height": null,
            "padding": null,
            "grid_auto_rows": null,
            "grid_gap": null,
            "max_width": null,
            "order": null,
            "_view_module_version": "1.2.0",
            "grid_template_areas": null,
            "object_position": null,
            "object_fit": null,
            "grid_auto_columns": null,
            "margin": null,
            "display": null,
            "left": null
          }
        }
      }
    }
  },
  "cells": [
    {
      "cell_type": "markdown",
      "metadata": {
        "id": "TY5G5XhNr61G"
      },
      "source": [
        "**Initialization**\n",
        "* I use these 3 lines of code on top of my each Notebooks because it will help to prevent any problems while reloading and reworking on a Project or Problem. And the third line of code helps to make visualization within the Notebook."
      ]
    },
    {
      "cell_type": "code",
      "metadata": {
        "id": "RZYLr4FJqQcv"
      },
      "source": [
        "#@ Initialization: \n",
        "%reload_ext autoreload\n",
        "%autoreload 2\n",
        "%matplotlib inline"
      ],
      "execution_count": 1,
      "outputs": []
    },
    {
      "cell_type": "markdown",
      "metadata": {
        "id": "joCK5JUWsqK1"
      },
      "source": [
        "**Downloading the Libraries and Dependencies**"
      ]
    },
    {
      "cell_type": "code",
      "metadata": {
        "id": "DQnfGZQlsTGK",
        "outputId": "e1013ee0-b11a-467a-cb36-20d14b6fe5b7",
        "colab": {
          "base_uri": "https://localhost:8080/",
          "height": 51
        }
      },
      "source": [
        "#@ Downloading the Libraries and Dependencies:\n",
        "from __future__ import absolute_import, division\n",
        "from __future__ import print_function, unicode_literals\n",
        "from IPython.display import display\n",
        "\n",
        "# try:\n",
        "#   !pip uninstall tb-nightly tensorboardX tenosrboard\n",
        "#   !pip install tf-nightly\n",
        "# except Exception:\n",
        "#   pass \n",
        "\n",
        "import tensorflow as tf\n",
        "import os\n",
        "import datetime\n",
        "import tensorflow_datasets as tfds\n",
        "\n",
        "from keras.models import Sequential                                              # Base Keras Neural Network Model.\n",
        "from keras.layers import Dense, Bidirectional, LSTM, Dropout, Embedding          # Keras Functional API.\n",
        "from keras.layers import Flatten\n",
        "\n",
        "%load_ext tensorboard"
      ],
      "execution_count": 11,
      "outputs": [
        {
          "output_type": "stream",
          "text": [
            "The tensorboard extension is already loaded. To reload it, use:\n",
            "  %reload_ext tensorboard\n"
          ],
          "name": "stdout"
        }
      ]
    },
    {
      "cell_type": "code",
      "metadata": {
        "id": "Fi2tNKekvRT-",
        "outputId": "20cf9abe-5b8d-471a-dccd-4bc1da7a6ca5",
        "colab": {
          "base_uri": "https://localhost:8080/",
          "height": 51
        }
      },
      "source": [
        "#@ Downloading the Libraries and Dependencies:\n",
        "import pkg_resources\n",
        "for entry_point in pkg_resources.iter_entry_points(\"tensorboard_plugins\"):\n",
        "  print(entry_point.dist)"
      ],
      "execution_count": 9,
      "outputs": [
        {
          "output_type": "stream",
          "text": [
            "tensorboard 2.3.0\n",
            "tensorboard-plugin-wit 1.7.0\n"
          ],
          "name": "stdout"
        }
      ]
    },
    {
      "cell_type": "code",
      "metadata": {
        "id": "Ztd_qONmwkB2"
      },
      "source": [
        "#@ Uninstalling the Tensorboard Colab:\n",
        "# !rm -r /usr/local/lib/python3.6/dist-packages/tensorboardcolab-0.0.22.dist-info"
      ],
      "execution_count": 13,
      "outputs": []
    },
    {
      "cell_type": "markdown",
      "metadata": {
        "id": "l-NbPl35ydlb"
      },
      "source": [
        "**Getting the Data**\n",
        "* I have used Google Colab for this Project so the process of downloading and reading the Data might be different in other platforms. I will use **Amazon Reviews Mobile Electronics Dataset** for this Project and I will import the Dataset using Tensorflow. The Dataset is already present in Tensorflow Dataset Library Corpus."
      ]
    },
    {
      "cell_type": "code",
      "metadata": {
        "id": "ZDrTmCrhyHZb",
        "outputId": "7d3e33e2-fb88-4a06-dc47-e1d49615fe70",
        "colab": {
          "base_uri": "https://localhost:8080/",
          "height": 1000,
          "referenced_widgets": [
            "eb48dcd91aaa4648b77784dc4bdd26c9",
            "2cc6b234b7454041b746acda90926a16",
            "a8200fa6ef3748efae23ecddf8de23ed",
            "3c1a75a4f15645b690917cc730921614",
            "8fb4f466a8ae42cf8fbde0ce639db44a",
            "698bdc336ea04ee6ad19b6311f276ee6",
            "4215af9a282a422fb9cd579978c69dc8",
            "a93cc33d9f904ac4a2753a460267e339",
            "9cec930eab2b49d2b133e5e5c279d21b",
            "3c8f9ad04b574fe4b6458d5c56f2b546",
            "bf04d7b506fd4eb9808dc1b1572f9184",
            "c800e947e82445f285db2ce28022a24d",
            "82a24d231fe14b959b93f7f2437dd188",
            "1c157a22b9e449c8a6b5e66d37ba7ed1",
            "d899f61fa75741358188357e3c573f61",
            "27b5a65986b548a4a59e567372cd3b7c",
            "76e1d543d14a4c1e8395402d008ad9e9",
            "9b0f06f47a104dd89c14685ddb813750",
            "602fd18ea109487293fd2bf118628aea",
            "9dab38ff1c0b48c2992be6badd2c8c65",
            "461a2caca4cc4ce7b92a35df18328e0f",
            "f9371a33b0104aaca720832d8990010e",
            "a90692a2d17846279d553fa0b4e8314b",
            "a6c9cdf64a9044c0bfe96995e3a0223c",
            "6d9ceb9f27ec4416b27b954105751af0",
            "6bb8fd82b27447338195f6bc6ffa1ae7",
            "448d6ed0f00c405c906196a3f74eb800",
            "12c3c959fe5847418c878ddccbea3e63",
            "97a78fc61d444dd9ad80a07f33102170",
            "b341ddaef6b14f9c8e5e25a05d8407c9",
            "37862cda1e2541c18a8d8a2c9d77a30d",
            "8193e59996544ddbb2e220885914b70e",
            "81763c4cf4ec4cfd95b245611b1cc4df",
            "e36d1cc953eb4c0aa2a46badf75c317c",
            "222dba065b9449ea949670de1cc2a594",
            "67f9968282154a5c8eec8d76b97221ff",
            "c87dd98c0f2746cf8ea170d4305d0fa4",
            "a81e684696f940dd9e3d261bcc60c503",
            "ee9e39c292774454b91bbefcd159fe58",
            "22d9ea97aa934eaa90bc34d880316211",
            "abafbb8e15cf43a8989571b2c0bd092c",
            "d45906676fb84e878188389befeaef42",
            "fcd50ba6879c43b0898a89c2739142f1",
            "68ad8bc04e964d0fb1214d9a9e7cab53",
            "18623abe3e034d88808b0d747fa1a520",
            "12e93b50916b4006b2e27de44aa7b5a9",
            "63d044d54c2e4353a22aec0f2b82563d",
            "0ed5d144144146bbb2a9eb5bdef0ff75",
            "baa1d3724b6a4bf9b03df105ce00306d",
            "554458090e814063a32e7eb5cd50363e",
            "536798e2365441778043b5dd9f909489",
            "35c6b74ec56e4610bc8f0b24c57f42cc",
            "cfd607afc1cf41a3b3f768625bc51169",
            "44ec5646d5c64f9fb727ab7529847252",
            "245d60794ef0490bac93dc662c0f91f1",
            "64ec8f77d57a4992adfd553ca4467655"
          ]
        }
      },
      "source": [
        "#@ Getting the Dataset:\n",
        "dataset, info = tfds.load(\"amazon_us_reviews/Mobile_Electronics_v1_00\", with_info=True)\n",
        "train_dataset = dataset[\"train\"]\n",
        "\n",
        "#@ Inspecting the Information of the Dataset:\n",
        "display(info)\n",
        "\n",
        "#@ Inspecting the Dataset:\n",
        "display(train_dataset)\n",
        "display(len(list(train_dataset)))"
      ],
      "execution_count": 14,
      "outputs": [
        {
          "output_type": "stream",
          "text": [
            "\u001b[1mDownloading and preparing dataset amazon_us_reviews/Mobile_Electronics_v1_00/0.1.0 (download: 21.81 MiB, generated: Unknown size, total: 21.81 MiB) to /root/tensorflow_datasets/amazon_us_reviews/Mobile_Electronics_v1_00/0.1.0...\u001b[0m\n"
          ],
          "name": "stdout"
        },
        {
          "output_type": "display_data",
          "data": {
            "application/vnd.jupyter.widget-view+json": {
              "model_id": "eb48dcd91aaa4648b77784dc4bdd26c9",
              "version_minor": 0,
              "version_major": 2
            },
            "text/plain": [
              "HBox(children=(FloatProgress(value=1.0, bar_style='info', description='Dl Completed...', max=1.0, style=Progre…"
            ]
          },
          "metadata": {
            "tags": []
          }
        },
        {
          "output_type": "display_data",
          "data": {
            "application/vnd.jupyter.widget-view+json": {
              "model_id": "9cec930eab2b49d2b133e5e5c279d21b",
              "version_minor": 0,
              "version_major": 2
            },
            "text/plain": [
              "HBox(children=(FloatProgress(value=1.0, bar_style='info', description='Dl Size...', max=1.0, style=ProgressSty…"
            ]
          },
          "metadata": {
            "tags": []
          }
        },
        {
          "output_type": "display_data",
          "data": {
            "application/vnd.jupyter.widget-view+json": {
              "model_id": "76e1d543d14a4c1e8395402d008ad9e9",
              "version_minor": 0,
              "version_major": 2
            },
            "text/plain": [
              "HBox(children=(FloatProgress(value=1.0, bar_style='info', description='Extraction completed...', max=1.0, styl…"
            ]
          },
          "metadata": {
            "tags": []
          }
        },
        {
          "output_type": "stream",
          "text": [
            "/usr/local/lib/python3.6/dist-packages/urllib3/connectionpool.py:847: InsecureRequestWarning: Unverified HTTPS request is being made. Adding certificate verification is strongly advised. See: https://urllib3.readthedocs.io/en/latest/advanced-usage.html#ssl-warnings\n",
            "  InsecureRequestWarning)\n"
          ],
          "name": "stderr"
        },
        {
          "output_type": "stream",
          "text": [
            "\n",
            "\n",
            "\n",
            "\n",
            "\n",
            "\n"
          ],
          "name": "stdout"
        },
        {
          "output_type": "display_data",
          "data": {
            "application/vnd.jupyter.widget-view+json": {
              "model_id": "6d9ceb9f27ec4416b27b954105751af0",
              "version_minor": 0,
              "version_major": 2
            },
            "text/plain": [
              "HBox(children=(FloatProgress(value=1.0, bar_style='info', max=1.0), HTML(value='')))"
            ]
          },
          "metadata": {
            "tags": []
          }
        },
        {
          "output_type": "stream",
          "text": [
            "\rShuffling and writing examples to /root/tensorflow_datasets/amazon_us_reviews/Mobile_Electronics_v1_00/0.1.0.incompleteIDSRQG/amazon_us_reviews-train.tfrecord\n"
          ],
          "name": "stdout"
        },
        {
          "output_type": "display_data",
          "data": {
            "application/vnd.jupyter.widget-view+json": {
              "model_id": "81763c4cf4ec4cfd95b245611b1cc4df",
              "version_minor": 0,
              "version_major": 2
            },
            "text/plain": [
              "HBox(children=(FloatProgress(value=0.0, max=104975.0), HTML(value='')))"
            ]
          },
          "metadata": {
            "tags": []
          }
        },
        {
          "output_type": "display_data",
          "data": {
            "application/vnd.jupyter.widget-view+json": {
              "model_id": "abafbb8e15cf43a8989571b2c0bd092c",
              "version_minor": 0,
              "version_major": 2
            },
            "text/plain": [
              "HBox(children=(FloatProgress(value=0.0, description='Computing statistics...', max=1.0, style=ProgressStyle(de…"
            ]
          },
          "metadata": {
            "tags": []
          }
        },
        {
          "output_type": "stream",
          "text": [
            "\r"
          ],
          "name": "stdout"
        },
        {
          "output_type": "display_data",
          "data": {
            "application/vnd.jupyter.widget-view+json": {
              "model_id": "baa1d3724b6a4bf9b03df105ce00306d",
              "version_minor": 0,
              "version_major": 2
            },
            "text/plain": [
              "HBox(children=(FloatProgress(value=1.0, bar_style='info', max=1.0), HTML(value='')))"
            ]
          },
          "metadata": {
            "tags": []
          }
        },
        {
          "output_type": "stream",
          "text": [
            "ERROR:absl:Statistics generation doesn't work for nested structures yet\n"
          ],
          "name": "stderr"
        },
        {
          "output_type": "stream",
          "text": [
            "\r\n",
            "\u001b[1mDataset amazon_us_reviews downloaded and prepared to /root/tensorflow_datasets/amazon_us_reviews/Mobile_Electronics_v1_00/0.1.0. Subsequent calls will reuse this data.\u001b[0m\n"
          ],
          "name": "stdout"
        },
        {
          "output_type": "display_data",
          "data": {
            "text/plain": [
              "tfds.core.DatasetInfo(\n",
              "    name='amazon_us_reviews',\n",
              "    version=0.1.0,\n",
              "    description='Amazon Customer Reviews (a.k.a. Product Reviews) is one of Amazons iconic products. In a period of over two decades since the first review in 1995, millions of Amazon customers have contributed over a hundred million reviews to express opinions and describe their experiences regarding products on the Amazon.com website. This makes Amazon Customer Reviews a rich source of information for academic researchers in the fields of Natural Language Processing (NLP), Information Retrieval (IR), and Machine Learning (ML), amongst others. Accordingly, we are releasing this data to further research in multiple disciplines related to understanding customer product experiences. Specifically, this dataset was constructed to represent a sample of customer evaluations and opinions, variation in the perception of a product across geographical regions, and promotional intent or bias in reviews.\n",
              "\n",
              "Over 130+ million customer reviews are available to researchers as part of this release. The data is available in TSV files in the amazon-reviews-pds S3 bucket in AWS US East Region. Each line in the data files corresponds to an individual review (tab delimited, with no quote and escape characters).\n",
              "\n",
              "Each Dataset contains the following columns : \n",
              "  marketplace       - 2 letter country code of the marketplace where the review was written.\n",
              "  customer_id       - Random identifier that can be used to aggregate reviews written by a single author.\n",
              "  review_id         - The unique ID of the review.\n",
              "  product_id        - The unique Product ID the review pertains to. In the multilingual dataset the reviews\n",
              "                      for the same product in different countries can be grouped by the same product_id.\n",
              "  product_parent    - Random identifier that can be used to aggregate reviews for the same product.\n",
              "  product_title     - Title of the product.\n",
              "  product_category  - Broad product category that can be used to group reviews \n",
              "                      (also used to group the dataset into coherent parts).\n",
              "  star_rating       - The 1-5 star rating of the review.\n",
              "  helpful_votes     - Number of helpful votes.\n",
              "  total_votes       - Number of total votes the review received.\n",
              "  vine              - Review was written as part of the Vine program.\n",
              "  verified_purchase - The review is on a verified purchase.\n",
              "  review_headline   - The title of the review.\n",
              "  review_body       - The review text.\n",
              "  review_date       - The date the review was written.\n",
              "',\n",
              "    homepage='https://s3.amazonaws.com/amazon-reviews-pds/readme.html',\n",
              "    features=FeaturesDict({\n",
              "        'data': FeaturesDict({\n",
              "            'customer_id': tf.string,\n",
              "            'helpful_votes': tf.int32,\n",
              "            'marketplace': tf.string,\n",
              "            'product_category': tf.string,\n",
              "            'product_id': tf.string,\n",
              "            'product_parent': tf.string,\n",
              "            'product_title': tf.string,\n",
              "            'review_body': tf.string,\n",
              "            'review_date': tf.string,\n",
              "            'review_headline': tf.string,\n",
              "            'review_id': tf.string,\n",
              "            'star_rating': tf.int32,\n",
              "            'total_votes': tf.int32,\n",
              "            'verified_purchase': ClassLabel(shape=(), dtype=tf.int64, num_classes=2),\n",
              "            'vine': ClassLabel(shape=(), dtype=tf.int64, num_classes=2),\n",
              "        }),\n",
              "    }),\n",
              "    total_num_examples=104975,\n",
              "    splits={\n",
              "        'train': 104975,\n",
              "    },\n",
              "    supervised_keys=None,\n",
              "    citation=\"\"\"\"\"\",\n",
              "    redistribution_info=,\n",
              ")"
            ]
          },
          "metadata": {
            "tags": []
          }
        },
        {
          "output_type": "display_data",
          "data": {
            "text/plain": [
              "<DatasetV1Adapter shapes: {data: {customer_id: (), helpful_votes: (), marketplace: (), product_category: (), product_id: (), product_parent: (), product_title: (), review_body: (), review_date: (), review_headline: (), review_id: (), star_rating: (), total_votes: (), verified_purchase: (), vine: ()}}, types: {data: {customer_id: tf.string, helpful_votes: tf.int32, marketplace: tf.string, product_category: tf.string, product_id: tf.string, product_parent: tf.string, product_title: tf.string, review_body: tf.string, review_date: tf.string, review_headline: tf.string, review_id: tf.string, star_rating: tf.int32, total_votes: tf.int32, verified_purchase: tf.int64, vine: tf.int64}}>"
            ]
          },
          "metadata": {
            "tags": []
          }
        },
        {
          "output_type": "display_data",
          "data": {
            "text/plain": [
              "104975"
            ]
          },
          "metadata": {
            "tags": []
          }
        }
      ]
    },
    {
      "cell_type": "markdown",
      "metadata": {
        "id": "sSd2ogqL2vz5"
      },
      "source": [
        "**Processing the Dataset**"
      ]
    },
    {
      "cell_type": "code",
      "metadata": {
        "id": "RtR7WNmX1gic",
        "outputId": "092abe08-16a2-42ed-995b-cc3eec35f6e2",
        "colab": {
          "base_uri": "https://localhost:8080/",
          "height": 547
        }
      },
      "source": [
        "#@ Parameters for Training the Dataset:\n",
        "BUFFER_SIZE = 30000                       # Maximum number of elements that will be buffered when Prefetching.\n",
        "BATCH_SIZE = 128                          # Number of samples fed into the Network.\n",
        "\n",
        "#@ Processing the Dataset:\n",
        "train_dataset = train_dataset.shuffle(BUFFER_SIZE, reshuffle_each_iteration=False)  # Shuffling the Dataset.\n",
        "\n",
        "#@ Inspecting the Dataset using Tensorflow:\n",
        "for reviews in train_dataset.take(10):\n",
        "  review_text = reviews[\"data\"]                                                     # \"data\" is the key of Dataset.\n",
        "  print(review_text.get(\"review_body\").numpy())                                     # Converting the Tensors into Numpy arrays.\n",
        "  print(review_text.get(\"star_rating\"))                                             # Inspecting the Ratings.\n",
        "  print(tf.where(review_text.get(\"star_rating\")>3,1,0).numpy())                     # Rating greater than 3 is 1 and else 0."
      ],
      "execution_count": 15,
      "outputs": [
        {
          "output_type": "stream",
          "text": [
            "b'Beautiful!'\n",
            "tf.Tensor(5, shape=(), dtype=int32)\n",
            "1\n",
            "b\"I bought this item for my husband because he has an Ipod touch! He doesn't use the computer and I was constantly having to charge it on my computer for him. Now he can charge it in his truck. Awesome!! Works Great!\"\n",
            "tf.Tensor(5, shape=(), dtype=int32)\n",
            "1\n",
            "b\"I love this product so much I bought one for my boyfriend.  We both swim and the other swim mp3's we had always malfunctioned, came off during flip turns or just died after a few months.  I have had my shuffle for over a year now and it functions beautifully.  Several people in my gym have since purchased one after seeing mine.  This is also a nice product if you sweat a lot during workouts.\"\n",
            "tf.Tensor(5, shape=(), dtype=int32)\n",
            "1\n",
            "b\"Went from Waldorf, MD to Atlanta, GA and back on my motorcycle this week. I love this thing!  Strapped it to my handlebars, placed the IPOD in my pocket and rode.  I used it with my SENA SMH10 communication set and it worked wonderfully. But I am a having an issue with it and unsure as to why.  The button that allows you to go from one playlist to the next has stopped working. I did review this product before purchase and is unsure it this was an issue.  But hoping to get it working again.  Again, if it wasn't for this issue, this would easily be a 5 Star product.\"\n",
            "tf.Tensor(4, shape=(), dtype=int32)\n",
            "1\n",
            "b'This the second one I purchased I have one for my iPod Nano I recommend you to my friends and family'\n",
            "tf.Tensor(5, shape=(), dtype=int32)\n",
            "1\n",
            "b'I\\'ve owned three of these over the space of about 10 years.  When they first came out I paid almost $300 and the latest one was about $125.  I\\'ve used them extensively as a pedestrian and in a vehicle.  I carried one literally around the world.  The only place I carried one that it didn\\'t work was driving close to the military ranges.  Considering the close proximity, I\\'m not real surprised.    First the Pros; It works.  Accuracy is dependent on a lot of things, cover mostly, but it would get down to 15\\' accuracy.  Rarely more than 100\\'.  It\\'s waterproof.  I\\'ve totally emersed it with no problems.  It\\'s small.  Fits well in a shirt pocket or harness pouch.  It is somewhat programmable in that you can lay a route in it and then follow that.  It\\'s fairly rugged.  Dropping one on the forest floor won\\'t break it.    The Cons.  The main con is that I have had to replace them ever so often as the toggle actuator \\\\\\\\\"stick\\\\\\\\\" wears out and the unit becomes inop after about 3 years useage.  The second con is that the display is greyscale and is hard to read.  More so when you have topo maps loaded in it.  You can make things out, but for older eyes this will be a problem.  I\\'ve used them navigating in an auto but wouldn\\'t recommend it.  Especially in traffic.    I would recommend them wholeheartedly now that they\\'ve come down in price.  They are a basic, fairly rugged GPS, that works reasonably well for backpackers or hunters.  I have a Garmin Nuvi that I use in the auto, but for backcountry use, I like this one.'\n",
            "tf.Tensor(4, shape=(), dtype=int32)\n",
            "1\n",
            "b\"Even though I followed the directions, it was difficult to set up.  Finally I was able to get it to synch.  I took a drive, came home and tried to download the map.  After 3 attempts, it finally downloaded - the map was in Asia.  We live in the US.<br />Even if it worked as intended, it would be substandard because it isn't real time.  The product is outdated.  The one good thing - Amazon gave me a 100% refund, which will keep me coming back to Amazon.\"\n",
            "tf.Tensor(1, shape=(), dtype=int32)\n",
            "0\n",
            "b\"I received the products in a US Postal Service box.  The items worked fine out of the box but looked increadibly cheap and light.  Unfortunately, the Wall Charger didn't last long, lasting all of 5 minutes.  I noticed some kind of spark and it died.  Am just glad that my Zen Vision M wasn't damaged out of it.   <br /> <br />As for the car charger, it still works.  The A/V cable is the only thing I'm really happy about with the package.  It seems sturdy with thick cables.   <br /> <br />I would recommend the A/V cable and probably the car charger but not the wall charger.\"\n",
            "tf.Tensor(3, shape=(), dtype=int32)\n",
            "0\n",
            "b'The case IS easy to carry easy to clean fits just right into my pocket book i would recomend it to other kindle fire user.'\n",
            "tf.Tensor(5, shape=(), dtype=int32)\n",
            "1\n",
            "b'The buttons are very hard to press'\n",
            "tf.Tensor(2, shape=(), dtype=int32)\n",
            "0\n"
          ],
          "name": "stdout"
        }
      ]
    },
    {
      "cell_type": "markdown",
      "metadata": {
        "id": "MMnOR_E573Jb"
      },
      "source": [
        "**Preprocessing the Model**\n",
        "* Now, I will Tokenize the Data and convert it into Vocabulary. Vocabulary is the different combinations of words present inside the Model."
      ]
    },
    {
      "cell_type": "code",
      "metadata": {
        "id": "MRZpwZOX7PTo",
        "outputId": "2e22438a-9c85-471b-8d99-3287c25e8f98",
        "colab": {
          "base_uri": "https://localhost:8080/",
          "height": 34
        }
      },
      "source": [
        "#@ Preprocessing the Model: Tokenization:\n",
        "tokenizer = tfds.features.text.Tokenizer()                                         # Instantiating the Tokenizer.\n",
        "\n",
        "vocabulary_set = set()                                                             # Removing the duplicates present in the Dataset.\n",
        "for _, reviews in train_dataset.enumerate():\n",
        "  review_text = reviews[\"data\"]                                                    # \"data\" is the key of the Dataset.\n",
        "  reviews_tokens = tokenizer.tokenize(review_text.get(\"review_body\").numpy())      # Tokenizing the body of the Dataset.\n",
        "  vocabulary_set.update(reviews_tokens)\n",
        "\n",
        "#@ Inspecting the Vocabulary:\n",
        "vocab_size = len(vocabulary_set)                                                   # Inspecting the length or size of Vocabulary.\n",
        "vocab_size "
      ],
      "execution_count": 16,
      "outputs": [
        {
          "output_type": "execute_result",
          "data": {
            "text/plain": [
              "73738"
            ]
          },
          "metadata": {
            "tags": []
          },
          "execution_count": 16
        }
      ]
    },
    {
      "cell_type": "markdown",
      "metadata": {
        "id": "J9sxz88n_0vB"
      },
      "source": [
        "* Now, I will encode the Vocabulary set into numerical values. I will implement the Text Encoder which basically takes all the Tokenized words and assign it to particular numerical values. "
      ]
    },
    {
      "cell_type": "code",
      "metadata": {
        "id": "_Ojvoew5_aFX",
        "outputId": "db90be71-2a8e-4378-b6df-085208973f5a",
        "colab": {
          "base_uri": "https://localhost:8080/",
          "height": 377
        }
      },
      "source": [
        "#@ Preprocessing the Model: Encoding:\n",
        "encoder = tfds.features.text.TokenTextEncoder(vocabulary_set)                       # Encoding the Vocabulary set. \n",
        "   \n",
        "for reviews in train_dataset.take(10):\n",
        "  review_text = reviews[\"data\"]                                                     # \"data\" is the key of the Dataset.\n",
        "  print(review_text.get(\"review_body\").numpy())\n",
        "  encoded_example = encoder.encode(review_text.get(\"review_body\").numpy())          # Encoding the Dataset.\n",
        "  print(encoded_example)                                                            # Inspecting the Encoded Dataset."
      ],
      "execution_count": 17,
      "outputs": [
        {
          "output_type": "stream",
          "text": [
            "b'Beautiful!'\n",
            "[39670]\n",
            "b\"I bought this item for my husband because he has an Ipod touch! He doesn't use the computer and I was constantly having to charge it on my computer for him. Now he can charge it in his truck. Awesome!! Works Great!\"\n",
            "[49575, 20635, 4687, 22096, 11157, 60724, 18484, 46809, 824, 6228, 26505, 63424, 68135, 1444, 13757, 53819, 25417, 21339, 32630, 49450, 49575, 14580, 4272, 50287, 28149, 13345, 54221, 12241, 60724, 32630, 11157, 29739, 17139, 824, 55510, 13345, 54221, 26901, 45757, 72228, 15190, 67493, 70988]\n",
            "b\"I love this product so much I bought one for my boyfriend.  We both swim and the other swim mp3's we had always malfunctioned, came off during flip turns or just died after a few months.  I have had my shuffle for over a year now and it functions beautifully.  Several people in my gym have since purchased one after seeing mine.  This is also a nice product if you sweat a lot during workouts.\"\n",
            "[49575, 58816, 4687, 51619, 29919, 48214, 49575, 20635, 43662, 11157, 60724, 67043, 73705, 3679, 13474, 49450, 21339, 11193, 13474, 62080, 593, 21492, 8606, 3542, 60534, 57772, 57748, 45697, 13605, 71484, 28024, 69095, 45453, 23042, 25812, 40566, 39382, 49575, 63018, 8606, 60724, 62700, 11157, 46302, 25812, 49798, 40999, 49450, 54221, 43826, 61931, 66019, 22264, 26901, 60724, 20516, 63018, 36567, 47666, 43662, 23042, 38227, 35924, 14883, 19062, 57790, 25812, 33025, 51619, 20624, 3097, 20886, 25812, 43102, 45697, 9280]\n",
            "b\"Went from Waldorf, MD to Atlanta, GA and back on my motorcycle this week. I love this thing!  Strapped it to my handlebars, placed the IPOD in my pocket and rode.  I used it with my SENA SMH10 communication set and it worked wonderfully. But I am a having an issue with it and unsure as to why.  The button that allows you to go from one playlist to the next has stopped working. I did review this product before purchase and is unsure it this was an issue.  But hoping to get it working again.  Again, if it wasn't for this issue, this would easily be a 5 Star product.\"\n",
            "[32295, 72546, 52441, 49604, 28149, 55249, 42356, 49450, 42144, 12241, 60724, 50422, 4687, 31389, 49575, 58816, 4687, 43855, 1087, 54221, 28149, 60724, 58283, 72975, 21339, 2519, 26901, 60724, 42748, 49450, 63243, 49575, 54141, 54221, 58663, 60724, 42566, 17432, 42626, 44330, 49450, 54221, 14900, 43087, 24036, 49575, 63584, 25812, 50287, 26505, 9407, 58663, 54221, 49450, 62623, 72541, 28149, 2140, 37425, 63595, 44054, 20395, 3097, 28149, 69383, 72546, 43662, 49453, 28149, 21339, 72926, 6228, 73224, 41417, 49575, 2065, 7253, 4687, 51619, 65749, 4788, 49450, 19062, 62623, 54221, 4687, 14580, 26505, 9407, 24036, 4933, 28149, 66080, 54221, 41417, 31687, 48321, 20624, 54221, 71576, 53819, 11157, 4687, 9407, 4687, 10646, 2622, 5138, 25812, 27717, 24400, 51619]\n",
            "b'This the second one I purchased I have one for my iPod Nano I recommend you to my friends and family'\n",
            "[14883, 21339, 3716, 43662, 49575, 47666, 49575, 63018, 43662, 11157, 60724, 12576, 60767, 49575, 67076, 3097, 28149, 60724, 59455, 49450, 13987]\n",
            "b'I\\'ve owned three of these over the space of about 10 years.  When they first came out I paid almost $300 and the latest one was about $125.  I\\'ve used them extensively as a pedestrian and in a vehicle.  I carried one literally around the world.  The only place I carried one that it didn\\'t work was driving close to the military ranges.  Considering the close proximity, I\\'m not real surprised.    First the Pros; It works.  Accuracy is dependent on a lot of things, cover mostly, but it would get down to 15\\' accuracy.  Rarely more than 100\\'.  It\\'s waterproof.  I\\'ve totally emersed it with no problems.  It\\'s small.  Fits well in a shirt pocket or harness pouch.  It is somewhat programmable in that you can lay a route in it and then follow that.  It\\'s fairly rugged.  Dropping one on the forest floor won\\'t break it.    The Cons.  The main con is that I have had to replace them ever so often as the toggle actuator \\\\\\\\\"stick\\\\\\\\\" wears out and the unit becomes inop after about 3 years useage.  The second con is that the display is greyscale and is hard to read.  More so when you have topo maps loaded in it.  You can make things out, but for older eyes this will be a problem.  I\\'ve used them navigating in an auto but wouldn\\'t recommend it.  Especially in traffic.    I would recommend them wholeheartedly now that they\\'ve come down in price.  They are a basic, fairly rugged GPS, that works reasonably well for backpackers or hunters.  I have a Garmin Nuvi that I use in the auto, but for backcountry use, I like this one.'\n",
            "[49575, 44463, 9360, 22447, 59114, 5666, 46302, 21339, 30470, 59114, 25885, 4289, 71869, 68153, 36124, 66399, 57772, 37523, 49575, 14307, 64739, 28707, 49450, 21339, 23419, 43662, 14580, 25885, 59862, 49575, 44463, 54141, 16580, 32257, 72541, 25812, 12783, 49450, 26901, 25812, 1798, 49575, 29766, 43662, 68522, 15165, 21339, 10787, 37425, 4888, 59947, 49575, 29766, 43662, 44054, 54221, 56603, 53819, 36990, 14580, 34197, 22074, 28149, 21339, 73243, 68535, 71611, 21339, 22074, 6269, 49575, 38757, 22844, 53472, 39033, 25633, 21339, 42501, 64535, 47814, 61839, 19062, 67485, 12241, 25812, 43102, 59114, 65542, 67413, 27313, 54321, 54221, 10646, 66080, 55250, 28149, 1491, 55115, 55063, 61389, 42437, 4714, 64535, 593, 20493, 49575, 44463, 71091, 17234, 54221, 58663, 16355, 24240, 64535, 593, 49776, 37569, 47343, 26901, 25812, 48140, 42748, 28024, 36766, 50976, 64535, 19062, 15903, 62517, 26901, 44054, 3097, 55510, 58993, 25812, 44597, 26901, 54221, 49450, 6728, 32833, 44054, 64535, 593, 4128, 46585, 41723, 43662, 12241, 21339, 46612, 37728, 57991, 53819, 17460, 54221, 37425, 60986, 37425, 30667, 64455, 19062, 44054, 49575, 63018, 8606, 28149, 28668, 16580, 73426, 29919, 23942, 72541, 21339, 42983, 19948, 57307, 44198, 37523, 49450, 21339, 26319, 1215, 29150, 23042, 25885, 41336, 71869, 3345, 37425, 3716, 64455, 19062, 44054, 21339, 4609, 19062, 57779, 49450, 19062, 73438, 28149, 39913, 28808, 29919, 37211, 3097, 63018, 7191, 4929, 13500, 26901, 54221, 638, 55510, 15791, 65542, 37523, 54321, 11157, 67348, 1885, 4687, 66008, 5138, 25812, 13808, 49575, 44463, 54141, 16580, 21106, 26901, 26505, 39129, 54321, 7420, 53819, 67076, 54221, 58785, 26901, 21305, 49575, 10646, 67076, 16580, 2362, 40999, 44054, 36124, 44463, 30905, 55250, 26901, 54345, 21828, 59836, 25812, 19162, 4128, 46585, 33946, 44054, 47814, 28523, 47343, 11157, 28086, 28024, 23140, 49575, 63018, 25812, 2298, 20736, 44054, 49575, 25417, 26901, 21339, 39129, 54321, 11157, 27414, 25417, 49575, 37840, 4687, 43662]\n",
            "b\"Even though I followed the directions, it was difficult to set up.  Finally I was able to get it to synch.  I took a drive, came home and tried to download the map.  After 3 attempts, it finally downloaded - the map was in Asia.  We live in the US.<br />Even if it worked as intended, it would be substandard because it isn't real time.  The product is outdated.  The one good thing - Amazon gave me a 100% refund, which will keep me coming back to Amazon.\"\n",
            "[279, 41167, 49575, 48765, 21339, 62704, 54221, 14580, 15825, 28149, 44330, 21294, 24108, 49575, 14580, 66428, 28149, 66080, 54221, 28149, 33785, 49575, 45236, 25812, 61281, 57772, 40231, 49450, 67751, 28149, 59863, 21339, 1996, 71557, 41336, 15178, 54221, 71714, 11581, 21339, 1996, 14580, 26901, 71013, 73705, 33509, 26901, 21339, 38212, 73349, 279, 20624, 54221, 14900, 72541, 9394, 54221, 10646, 5138, 69148, 46809, 54221, 3974, 53819, 53472, 57897, 37425, 51619, 19062, 5423, 37425, 43662, 64528, 43855, 24591, 62419, 68269, 25812, 4714, 56245, 8872, 66008, 47358, 68269, 51266, 42144, 28149, 24591]\n",
            "b\"I received the products in a US Postal Service box.  The items worked fine out of the box but looked increadibly cheap and light.  Unfortunately, the Wall Charger didn't last long, lasting all of 5 minutes.  I noticed some kind of spark and it died.  Am just glad that my Zen Vision M wasn't damaged out of it.   <br /> <br />As for the car charger, it still works.  The A/V cable is the only thing I'm really happy about with the package.  It seems sturdy with thick cables.   <br /> <br />I would recommend the A/V cable and probably the car charger but not the wall charger.\"\n",
            "[49575, 61304, 21339, 49144, 26901, 25812, 38212, 23641, 2590, 57743, 37425, 40145, 14900, 25598, 37523, 59114, 21339, 57743, 54321, 3182, 65974, 59056, 49450, 68187, 64280, 21339, 33429, 63633, 56603, 53819, 60132, 61043, 27915, 60985, 59114, 27717, 39528, 49575, 33165, 51687, 21966, 59114, 26447, 49450, 54221, 45453, 52133, 69095, 53474, 44054, 60724, 15975, 27763, 846, 71576, 53819, 22593, 37523, 59114, 54221, 73349, 73349, 30869, 11157, 21339, 59968, 70452, 54221, 69307, 47814, 37425, 2751, 21996, 46403, 19062, 21339, 4888, 43855, 49575, 38757, 13082, 27840, 25885, 58663, 21339, 42608, 64535, 36925, 1551, 58663, 71651, 49643, 73349, 73349, 49575, 10646, 67076, 21339, 2751, 21996, 46403, 49450, 55363, 21339, 59968, 70452, 54321, 22844, 21339, 53178, 70452]\n",
            "b'The case IS easy to carry easy to clean fits just right into my pocket book i would recomend it to other kindle fire user.'\n",
            "[37425, 3875, 10742, 22741, 28149, 60685, 22741, 28149, 20900, 24474, 69095, 41994, 44538, 60724, 42748, 53543, 69711, 10646, 50252, 54221, 28149, 11193, 7217, 25651, 13150]\n",
            "b'The buttons are very hard to press'\n",
            "[37425, 26469, 59836, 71405, 73438, 28149, 2696]\n"
          ],
          "name": "stdout"
        }
      ]
    },
    {
      "cell_type": "code",
      "metadata": {
        "id": "OFj0LajhDEau",
        "outputId": "a5fed2f2-2d77-43bc-9c5b-21cdf8606e61",
        "colab": {
          "base_uri": "https://localhost:8080/",
          "height": 136
        }
      },
      "source": [
        "#@ Inspecting the Encoding:\n",
        "for index in encoded_example:\n",
        "  print(\"{} ----> {}\".format(index, encoder.decode([index])))                  # Inspecting in one particular Example."
      ],
      "execution_count": 18,
      "outputs": [
        {
          "output_type": "stream",
          "text": [
            "37425 ----> The\n",
            "26469 ----> buttons\n",
            "59836 ----> are\n",
            "71405 ----> very\n",
            "73438 ----> hard\n",
            "28149 ----> to\n",
            "2696 ----> press\n"
          ],
          "name": "stdout"
        }
      ]
    },
    {
      "cell_type": "markdown",
      "metadata": {
        "id": "aChpqMwcGDc7"
      },
      "source": [
        "**Preprocessing the Model**\n",
        "* Now, I will Encode all the Dataset."
      ]
    },
    {
      "cell_type": "code",
      "metadata": {
        "id": "h2djQ6xPEH0B",
        "outputId": "2113988c-3506-4608-ef2e-face9367a083",
        "colab": {
          "base_uri": "https://localhost:8080/",
          "height": 306
        }
      },
      "source": [
        "#@ Preprocessing the Model:\n",
        "def encode(text_tensor, label_tensor):\n",
        "  encoded_text = encoder.encode(text_tensor.numpy())        \n",
        "  label = tf.where(label_tensor > 3,1,0)\n",
        "  return encoded_text, label\n",
        "\n",
        "def encode_map_fn(tensor):\n",
        "  text = tensor[\"data\"].get(\"review_body\")                        # Accessing the review body from Tensor.\n",
        "  label = tensor[\"data\"].get(\"star_rating\")                        # Accessing the ratings from Tensor.\n",
        "  encoded_text, label = tf.py_function(encode,\n",
        "                                       inp=[text, label],\n",
        "                                       Tout=(tf.int64, tf.int32))\n",
        "  encoded_text.set_shape([None])                                   # Automatically takes the shape.\n",
        "  label.set_shape([])                                              # Automatically takes the shape.\n",
        "  return encoded_text, label\n",
        "\n",
        "#@ Encoding the Dataset:\n",
        "encoded_data = train_dataset.map(encode_map_fn)                    # Encoding all the Dataset.\n",
        "\n",
        "#@ Inspecting the Encoded Dataset:\n",
        "for f0, f1 in encoded_data.take(3):\n",
        "  print(f0)                                                        # Encoded text review.\n",
        "  print(f1)                                                        # Encoded label."
      ],
      "execution_count": 19,
      "outputs": [
        {
          "output_type": "stream",
          "text": [
            "tf.Tensor([39670], shape=(1,), dtype=int64)\n",
            "tf.Tensor(1, shape=(), dtype=int32)\n",
            "tf.Tensor(\n",
            "[49575 20635  4687 22096 11157 60724 18484 46809   824  6228 26505 63424\n",
            " 68135  1444 13757 53819 25417 21339 32630 49450 49575 14580  4272 50287\n",
            " 28149 13345 54221 12241 60724 32630 11157 29739 17139   824 55510 13345\n",
            " 54221 26901 45757 72228 15190 67493 70988], shape=(43,), dtype=int64)\n",
            "tf.Tensor(1, shape=(), dtype=int32)\n",
            "tf.Tensor(\n",
            "[49575 58816  4687 51619 29919 48214 49575 20635 43662 11157 60724 67043\n",
            " 73705  3679 13474 49450 21339 11193 13474 62080   593 21492  8606  3542\n",
            " 60534 57772 57748 45697 13605 71484 28024 69095 45453 23042 25812 40566\n",
            " 39382 49575 63018  8606 60724 62700 11157 46302 25812 49798 40999 49450\n",
            " 54221 43826 61931 66019 22264 26901 60724 20516 63018 36567 47666 43662\n",
            " 23042 38227 35924 14883 19062 57790 25812 33025 51619 20624  3097 20886\n",
            " 25812 43102 45697  9280], shape=(76,), dtype=int64)\n",
            "tf.Tensor(1, shape=(), dtype=int32)\n"
          ],
          "name": "stdout"
        }
      ]
    },
    {
      "cell_type": "markdown",
      "metadata": {
        "id": "SjXsc4qgL3w8"
      },
      "source": [
        "**Splitting the Dataset**\n",
        "* Now, The Text Dataset is Tokenized and Encoded into particular Integers and it's readily available for Training the Model. So, I will split the Dataset into Training set and Testing or Validation set. I will split 10000 Encoded Dataset for Testing and the remaining Encoded Dataset for Training the Model. I will also perform padding to the Dataset to make the Data of constant length. "
      ]
    },
    {
      "cell_type": "code",
      "metadata": {
        "id": "d6VKJzyeKas2",
        "outputId": "b5d68613-2c07-45f9-cda0-e262c0957c0e",
        "colab": {
          "base_uri": "https://localhost:8080/",
          "height": 1000
        }
      },
      "source": [
        "#@ Splitting the Dataset:\n",
        "TAKE_SIZE = 10000\n",
        "\n",
        "#@ Training Dataset:\n",
        "train_data = encoded_data.skip(TAKE_SIZE).shuffle(BUFFER_SIZE)           # Skipping the 10000 Encoded Dataset. \n",
        "train_data = train_data.padded_batch(BATCH_SIZE)                         # Padding the Dataset for constant length.\n",
        "\n",
        "#@ Testing or Validation Dataset:\n",
        "test_data = encoded_data.take(TAKE_SIZE)\n",
        "test_data = test_data.padded_batch(BATCH_SIZE)                           # Padding the Dataset for constant length.\n",
        "\n",
        "#@ Inspecting the Test Data:\n",
        "sample_text, sample_label = next(iter(test_data))\n",
        "sample_text[0], sample_label[0]                                          # Inspecting the Test Data."
      ],
      "execution_count": 20,
      "outputs": [
        {
          "output_type": "execute_result",
          "data": {
            "text/plain": [
              "(<tf.Tensor: shape=(620,), dtype=int64, numpy=\n",
              " array([39670,     0,     0,     0,     0,     0,     0,     0,     0,\n",
              "            0,     0,     0,     0,     0,     0,     0,     0,     0,\n",
              "            0,     0,     0,     0,     0,     0,     0,     0,     0,\n",
              "            0,     0,     0,     0,     0,     0,     0,     0,     0,\n",
              "            0,     0,     0,     0,     0,     0,     0,     0,     0,\n",
              "            0,     0,     0,     0,     0,     0,     0,     0,     0,\n",
              "            0,     0,     0,     0,     0,     0,     0,     0,     0,\n",
              "            0,     0,     0,     0,     0,     0,     0,     0,     0,\n",
              "            0,     0,     0,     0,     0,     0,     0,     0,     0,\n",
              "            0,     0,     0,     0,     0,     0,     0,     0,     0,\n",
              "            0,     0,     0,     0,     0,     0,     0,     0,     0,\n",
              "            0,     0,     0,     0,     0,     0,     0,     0,     0,\n",
              "            0,     0,     0,     0,     0,     0,     0,     0,     0,\n",
              "            0,     0,     0,     0,     0,     0,     0,     0,     0,\n",
              "            0,     0,     0,     0,     0,     0,     0,     0,     0,\n",
              "            0,     0,     0,     0,     0,     0,     0,     0,     0,\n",
              "            0,     0,     0,     0,     0,     0,     0,     0,     0,\n",
              "            0,     0,     0,     0,     0,     0,     0,     0,     0,\n",
              "            0,     0,     0,     0,     0,     0,     0,     0,     0,\n",
              "            0,     0,     0,     0,     0,     0,     0,     0,     0,\n",
              "            0,     0,     0,     0,     0,     0,     0,     0,     0,\n",
              "            0,     0,     0,     0,     0,     0,     0,     0,     0,\n",
              "            0,     0,     0,     0,     0,     0,     0,     0,     0,\n",
              "            0,     0,     0,     0,     0,     0,     0,     0,     0,\n",
              "            0,     0,     0,     0,     0,     0,     0,     0,     0,\n",
              "            0,     0,     0,     0,     0,     0,     0,     0,     0,\n",
              "            0,     0,     0,     0,     0,     0,     0,     0,     0,\n",
              "            0,     0,     0,     0,     0,     0,     0,     0,     0,\n",
              "            0,     0,     0,     0,     0,     0,     0,     0,     0,\n",
              "            0,     0,     0,     0,     0,     0,     0,     0,     0,\n",
              "            0,     0,     0,     0,     0,     0,     0,     0,     0,\n",
              "            0,     0,     0,     0,     0,     0,     0,     0,     0,\n",
              "            0,     0,     0,     0,     0,     0,     0,     0,     0,\n",
              "            0,     0,     0,     0,     0,     0,     0,     0,     0,\n",
              "            0,     0,     0,     0,     0,     0,     0,     0,     0,\n",
              "            0,     0,     0,     0,     0,     0,     0,     0,     0,\n",
              "            0,     0,     0,     0,     0,     0,     0,     0,     0,\n",
              "            0,     0,     0,     0,     0,     0,     0,     0,     0,\n",
              "            0,     0,     0,     0,     0,     0,     0,     0,     0,\n",
              "            0,     0,     0,     0,     0,     0,     0,     0,     0,\n",
              "            0,     0,     0,     0,     0,     0,     0,     0,     0,\n",
              "            0,     0,     0,     0,     0,     0,     0,     0,     0,\n",
              "            0,     0,     0,     0,     0,     0,     0,     0,     0,\n",
              "            0,     0,     0,     0,     0,     0,     0,     0,     0,\n",
              "            0,     0,     0,     0,     0,     0,     0,     0,     0,\n",
              "            0,     0,     0,     0,     0,     0,     0,     0,     0,\n",
              "            0,     0,     0,     0,     0,     0,     0,     0,     0,\n",
              "            0,     0,     0,     0,     0,     0,     0,     0,     0,\n",
              "            0,     0,     0,     0,     0,     0,     0,     0,     0,\n",
              "            0,     0,     0,     0,     0,     0,     0,     0,     0,\n",
              "            0,     0,     0,     0,     0,     0,     0,     0,     0,\n",
              "            0,     0,     0,     0,     0,     0,     0,     0,     0,\n",
              "            0,     0,     0,     0,     0,     0,     0,     0,     0,\n",
              "            0,     0,     0,     0,     0,     0,     0,     0,     0,\n",
              "            0,     0,     0,     0,     0,     0,     0,     0,     0,\n",
              "            0,     0,     0,     0,     0,     0,     0,     0,     0,\n",
              "            0,     0,     0,     0,     0,     0,     0,     0,     0,\n",
              "            0,     0,     0,     0,     0,     0,     0,     0,     0,\n",
              "            0,     0,     0,     0,     0,     0,     0,     0,     0,\n",
              "            0,     0,     0,     0,     0,     0,     0,     0,     0,\n",
              "            0,     0,     0,     0,     0,     0,     0,     0,     0,\n",
              "            0,     0,     0,     0,     0,     0,     0,     0,     0,\n",
              "            0,     0,     0,     0,     0,     0,     0,     0,     0,\n",
              "            0,     0,     0,     0,     0,     0,     0,     0,     0,\n",
              "            0,     0,     0,     0,     0,     0,     0,     0,     0,\n",
              "            0,     0,     0,     0,     0,     0,     0,     0,     0,\n",
              "            0,     0,     0,     0,     0,     0,     0,     0,     0,\n",
              "            0,     0,     0,     0,     0,     0,     0,     0,     0,\n",
              "            0,     0,     0,     0,     0,     0,     0,     0])>,\n",
              " <tf.Tensor: shape=(), dtype=int32, numpy=1>)"
            ]
          },
          "metadata": {
            "tags": []
          },
          "execution_count": 20
        }
      ]
    },
    {
      "cell_type": "code",
      "metadata": {
        "id": "J1QbVxf8QpCY",
        "outputId": "1bc4fe96-6161-4736-dcd3-a47d8b7cd3e1",
        "colab": {
          "base_uri": "https://localhost:8080/",
          "height": 187
        }
      },
      "source": [
        "#@ Inspecting the Distribution of Positive and Negative Reviews:\n",
        "for f0, f1 in test_data.take(10):\n",
        "  print(tf.unique_with_counts(f1)[2].numpy())"
      ],
      "execution_count": 21,
      "outputs": [
        {
          "output_type": "stream",
          "text": [
            "[91 37]\n",
            "[86 42]\n",
            "[80 48]\n",
            "[41 87]\n",
            "[85 43]\n",
            "[78 50]\n",
            "[45 83]\n",
            "[86 42]\n",
            "[80 48]\n",
            "[85 43]\n"
          ],
          "name": "stdout"
        }
      ]
    },
    {
      "cell_type": "markdown",
      "metadata": {
        "id": "ozRq3hc8Xjda"
      },
      "source": [
        "* The Distribution of positive and negative sentiment reviews are not equal."
      ]
    },
    {
      "cell_type": "markdown",
      "metadata": {
        "id": "EqYpqgufZJ-y"
      },
      "source": [
        "**Long Short Term Memory**\n",
        "* Long Short Term Memory or LSTM is an Artificial Recurrent Neural Network or RNN architecture used in the field of Deep Learning. Unlike standard Feedforward Neural Networks, LSTM has Feedback connections. It can not only process single data points, but also entire sequences of data such as Speech or Video. Now, The Dataset is ready to build the Neural Network."
      ]
    },
    {
      "cell_type": "code",
      "metadata": {
        "id": "d4ExsgPEXQ0W",
        "outputId": "555ee37d-a786-4c1d-fb4a-fc327c37422c",
        "colab": {
          "base_uri": "https://localhost:8080/",
          "height": 425
        }
      },
      "source": [
        "#@ Long Short Term Memory or LSTM:\n",
        "vocab_size = vocab_size + 1                                   # Increasing the vocab size by 1.\n",
        "\n",
        "model = Sequential()                                          # Standard Model Definition for Keras.\n",
        "model.add(Embedding(                                          # Adding the Embedding Layer.\n",
        "    vocab_size, 128     \n",
        "))\n",
        "model.add(Bidirectional(LSTM(                                 # Adding the Bidirectional LSTM Layer.\n",
        "    128, return_sequences=True\n",
        ")))\n",
        "# model.add(Bidirectional(LSTM(                               # Adding another LSTM Layer.\n",
        "#     64, return_sequences=True\n",
        "# )))\n",
        "model.add(Bidirectional(LSTM(                                 # Adding the third LSTM Layer.\n",
        "    64, return_sequences=False\n",
        ")))\n",
        "model.add(Dense(                                              # Adding the Dense Layer\n",
        "    64, activation=\"relu\"\n",
        "))\n",
        "model.add(Dense(                                              # Adding another Dense Layer.\n",
        "    64, activation=\"relu\"\n",
        "))\n",
        "model.add(Dropout(0.2))                                       # Adding the Dropout layer.\n",
        "model.add(Flatten())\n",
        "model.add(Dense(1))                                           # Output Layer.\n",
        "\n",
        "#@ Inspecting the Summary of the Model:\n",
        "model.summary()"
      ],
      "execution_count": 22,
      "outputs": [
        {
          "output_type": "stream",
          "text": [
            "Model: \"sequential\"\n",
            "_________________________________________________________________\n",
            "Layer (type)                 Output Shape              Param #   \n",
            "=================================================================\n",
            "embedding (Embedding)        (None, None, 128)         9438592   \n",
            "_________________________________________________________________\n",
            "bidirectional (Bidirectional (None, None, 256)         263168    \n",
            "_________________________________________________________________\n",
            "bidirectional_1 (Bidirection (None, 128)               164352    \n",
            "_________________________________________________________________\n",
            "dense (Dense)                (None, 64)                8256      \n",
            "_________________________________________________________________\n",
            "dense_1 (Dense)              (None, 64)                4160      \n",
            "_________________________________________________________________\n",
            "dropout (Dropout)            (None, 64)                0         \n",
            "_________________________________________________________________\n",
            "flatten (Flatten)            (None, 64)                0         \n",
            "_________________________________________________________________\n",
            "dense_2 (Dense)              (None, 1)                 65        \n",
            "=================================================================\n",
            "Total params: 9,878,593\n",
            "Trainable params: 9,878,593\n",
            "Non-trainable params: 0\n",
            "_________________________________________________________________\n"
          ],
          "name": "stdout"
        }
      ]
    },
    {
      "cell_type": "code",
      "metadata": {
        "id": "b3oHtk14g-K8",
        "outputId": "1aab791c-29b4-48f8-9e9c-e5d3b833a016",
        "colab": {
          "base_uri": "https://localhost:8080/",
          "height": 221
        }
      },
      "source": [
        "# #@ Processing the Model:\n",
        "# !rm -r /tmp/logs/                                                                     # Cleaning the tmp logs.\n",
        "\n",
        "logdir = os.path.join(\"/tmp/logs\", datetime.datetime.now().strftime(\"%Y%m%d-%H%M%S\"))   # Creating the log directory.\n",
        "tensorboard_callback = tf.keras.callbacks.TensorBoard(logdir, histogram_freq=1)         # Captures the progress of the Model.\n",
        "checkpointer = tf.keras.callbacks.ModelCheckpoint(\n",
        "    filepath=\"/tmp/sentiment.hdf5\", verbose=1, save_best_only=True                      # Saves only the best Model.\n",
        ")\n",
        "\n",
        "#@ Compiling the LSTM Neural Network:\n",
        "model.compile(\n",
        "    loss=tf.keras.losses.BinaryCrossentropy(from_logits=True),\n",
        "    optimizer=\"adam\",\n",
        "    metrics=[\"accuracy\"]\n",
        ")\n",
        "\n",
        "#@ Training the LSTM Neural Network:\n",
        "history = model.fit(\n",
        "    train_data, epochs=3,\n",
        "    validation_data=test_data,\n",
        "    callbacks=[tensorboard_callback, checkpointer]\n",
        ")"
      ],
      "execution_count": 23,
      "outputs": [
        {
          "output_type": "stream",
          "text": [
            "Epoch 1/3\n",
            "742/742 [==============================] - 7884s 11s/step - loss: 0.4209 - accuracy: 0.7853 - val_loss: 0.2801 - val_accuracy: 0.8755\n",
            "\n",
            "Epoch 00001: val_loss improved from inf to 0.28013, saving model to /tmp/sentiment.hdf5\n",
            "Epoch 2/3\n",
            "742/742 [==============================] - 7593s 10s/step - loss: 0.2367 - accuracy: 0.9036 - val_loss: 0.2709 - val_accuracy: 0.8856\n",
            "\n",
            "Epoch 00002: val_loss improved from 0.28013 to 0.27091, saving model to /tmp/sentiment.hdf5\n",
            "Epoch 3/3\n",
            "742/742 [==============================] - 7513s 10s/step - loss: 0.1859 - accuracy: 0.9294 - val_loss: 0.3116 - val_accuracy: 0.8734\n",
            "\n",
            "Epoch 00003: val_loss did not improve from 0.27091\n"
          ],
          "name": "stdout"
        }
      ]
    },
    {
      "cell_type": "markdown",
      "metadata": {
        "id": "Eq4vNr7oCKx7"
      },
      "source": [
        "**Model Evaluation**"
      ]
    },
    {
      "cell_type": "code",
      "metadata": {
        "id": "7UCf2gca1dBg",
        "outputId": "9b450c78-6dc6-497e-b530-fcde37d13541",
        "colab": {
          "base_uri": "https://localhost:8080/",
          "height": 68
        }
      },
      "source": [
        "#@ Saving the Model:\n",
        "model.save(\"/tmp/final_sentiment.hdf5\")\n",
        "\n",
        "#@ Evaluating the Model:\n",
        "eval_loss, eval_accuracy = model.evaluate(test_data)\n",
        "print(\"\\nEval loss:{:.3f}, Eval accuracy:{:.3f}\".format(eval_loss, eval_accuracy))"
      ],
      "execution_count": 24,
      "outputs": [
        {
          "output_type": "stream",
          "text": [
            "79/79 [==============================] - 237s 3s/step - loss: 0.3116 - accuracy: 0.8734\n",
            "\n",
            "Eval loss:0.312, Eval accuracy:0.873\n"
          ],
          "name": "stdout"
        }
      ]
    },
    {
      "cell_type": "code",
      "metadata": {
        "id": "nPGbMBnWDczn",
        "outputId": "19d7d31f-0fe2-4099-9675-584e5c167a17",
        "colab": {
          "base_uri": "https://localhost:8080/",
          "height": 1000
        }
      },
      "source": [
        "#@ Inspecting the Sentiment of Test Data:\n",
        "for f0, f1 in test_data.take(1):\n",
        "  print(f1)\n",
        "  print(model.predict(f0))"
      ],
      "execution_count": 25,
      "outputs": [
        {
          "output_type": "stream",
          "text": [
            "tf.Tensor(\n",
            "[1 1 1 1 1 1 0 0 1 0 1 1 1 1 0 1 1 0 0 1 1 1 1 1 1 1 0 1 1 1 1 0 1 1 0 1 1\n",
            " 1 1 1 0 1 1 1 0 0 0 1 0 1 1 1 1 1 0 1 1 1 1 1 1 1 1 1 1 1 1 1 1 1 0 1 0 0\n",
            " 1 1 0 1 1 0 0 1 1 0 1 1 0 1 1 1 1 1 1 1 1 0 1 1 1 1 0 0 0 1 0 1 1 1 1 1 0\n",
            " 0 1 1 1 0 0 1 1 0 1 0 1 1 0 0 0 1], shape=(128,), dtype=int32)\n",
            "[[ 4.7829175 ]\n",
            " [ 4.306049  ]\n",
            " [ 5.353168  ]\n",
            " [-0.19685489]\n",
            " [ 4.93677   ]\n",
            " [ 4.3705907 ]\n",
            " [-3.635945  ]\n",
            " [-0.84840083]\n",
            " [ 4.580627  ]\n",
            " [-3.25108   ]\n",
            " [ 4.861857  ]\n",
            " [ 4.927709  ]\n",
            " [ 5.089006  ]\n",
            " [ 4.5485616 ]\n",
            " [-4.432257  ]\n",
            " [ 2.4489863 ]\n",
            " [ 6.8845534 ]\n",
            " [-5.395208  ]\n",
            " [ 2.367188  ]\n",
            " [ 5.4765    ]\n",
            " [ 5.204985  ]\n",
            " [-1.6892974 ]\n",
            " [ 5.871961  ]\n",
            " [ 5.344337  ]\n",
            " [ 5.5941415 ]\n",
            " [ 5.87442   ]\n",
            " [-4.101936  ]\n",
            " [ 4.7475996 ]\n",
            " [ 4.7322598 ]\n",
            " [ 3.0994918 ]\n",
            " [ 6.6228075 ]\n",
            " [ 1.3830044 ]\n",
            " [ 3.3174105 ]\n",
            " [ 4.7126474 ]\n",
            " [-4.7337384 ]\n",
            " [ 4.313247  ]\n",
            " [ 3.55868   ]\n",
            " [ 6.426739  ]\n",
            " [ 5.2906895 ]\n",
            " [ 3.149171  ]\n",
            " [-3.5058782 ]\n",
            " [ 2.4892862 ]\n",
            " [ 1.5045129 ]\n",
            " [ 4.239735  ]\n",
            " [-4.2222376 ]\n",
            " [-2.098059  ]\n",
            " [-2.2602394 ]\n",
            " [ 2.814252  ]\n",
            " [-3.7209582 ]\n",
            " [ 6.730076  ]\n",
            " [ 4.6131816 ]\n",
            " [ 4.2678833 ]\n",
            " [ 2.8260896 ]\n",
            " [ 2.4131176 ]\n",
            " [-4.6573153 ]\n",
            " [ 5.023994  ]\n",
            " [ 1.2854986 ]\n",
            " [ 5.6592937 ]\n",
            " [ 3.1914732 ]\n",
            " [ 5.930624  ]\n",
            " [ 2.1811771 ]\n",
            " [ 5.7794156 ]\n",
            " [ 3.4001687 ]\n",
            " [ 1.8268594 ]\n",
            " [ 3.6793673 ]\n",
            " [ 5.5074134 ]\n",
            " [ 3.2110689 ]\n",
            " [ 2.2358425 ]\n",
            " [ 3.6346555 ]\n",
            " [ 4.425539  ]\n",
            " [-3.415112  ]\n",
            " [ 5.649903  ]\n",
            " [-4.969703  ]\n",
            " [-4.6695924 ]\n",
            " [ 2.2353733 ]\n",
            " [ 3.3017163 ]\n",
            " [-3.731318  ]\n",
            " [ 4.877407  ]\n",
            " [ 5.583331  ]\n",
            " [-3.3364484 ]\n",
            " [-2.3036554 ]\n",
            " [ 5.0411    ]\n",
            " [ 2.1430707 ]\n",
            " [-4.170461  ]\n",
            " [ 5.2979255 ]\n",
            " [ 4.712853  ]\n",
            " [-4.0675077 ]\n",
            " [ 5.3743086 ]\n",
            " [ 3.5171034 ]\n",
            " [ 4.6423354 ]\n",
            " [ 3.3301852 ]\n",
            " [ 5.289124  ]\n",
            " [ 7.0493646 ]\n",
            " [ 6.287806  ]\n",
            " [ 4.812318  ]\n",
            " [-4.0966477 ]\n",
            " [ 5.2766333 ]\n",
            " [ 4.5294185 ]\n",
            " [-2.360893  ]\n",
            " [ 6.857592  ]\n",
            " [-4.069664  ]\n",
            " [-4.8208566 ]\n",
            " [-5.305866  ]\n",
            " [ 3.6767054 ]\n",
            " [-5.5009484 ]\n",
            " [ 4.1867642 ]\n",
            " [ 3.930929  ]\n",
            " [ 5.06934   ]\n",
            " [ 3.242576  ]\n",
            " [ 7.371626  ]\n",
            " [-4.8557954 ]\n",
            " [-4.5918403 ]\n",
            " [ 3.838424  ]\n",
            " [ 6.0645843 ]\n",
            " [ 3.8789883 ]\n",
            " [-6.234979  ]\n",
            " [-4.359394  ]\n",
            " [ 4.614594  ]\n",
            " [ 6.2052283 ]\n",
            " [-3.1340625 ]\n",
            " [ 0.58350587]\n",
            " [-2.5308468 ]\n",
            " [ 3.9992259 ]\n",
            " [ 2.5860221 ]\n",
            " [ 3.6760504 ]\n",
            " [-2.780862  ]\n",
            " [ 1.326691  ]\n",
            " [-2.4033334 ]]\n"
          ],
          "name": "stdout"
        }
      ]
    },
    {
      "cell_type": "code",
      "metadata": {
        "id": "CETbSbDQEMy-"
      },
      "source": [
        "#@ Function for Data Visualization:\n",
        "import matplotlib.pyplot as plt                             # Module for Data Visualization.\n",
        "\n",
        "def plot_graphs(history, metric):\n",
        "  plt.plot(history.history[metric])\n",
        "  plt.plot(history.history[\"val_\" +metric], '')\n",
        "  plt.xlabel(\"Epochs\")\n",
        "  plt.ylabel(metric)\n",
        "  plt.legend([metric, \"val_\"+metric])\n",
        "  plt.show()"
      ],
      "execution_count": 33,
      "outputs": []
    },
    {
      "cell_type": "code",
      "metadata": {
        "id": "qchY7BDkFY-3",
        "outputId": "69c111b3-f52c-4f38-a96e-ec42caa3d7d7",
        "colab": {
          "base_uri": "https://localhost:8080/",
          "height": 279
        }
      },
      "source": [
        "#@ Visualizing the accuracy:\n",
        "plot_graphs(history, \"accuracy\")"
      ],
      "execution_count": 34,
      "outputs": [
        {
          "output_type": "display_data",
          "data": {
            "image/png": "[encoded data removed]",
            "text/plain": [
              "<Figure size 432x288 with 1 Axes>"
            ]
          },
          "metadata": {
            "tags": [],
            "needs_background": "light"
          }
        }
      ]
    },
    {
      "cell_type": "code",
      "metadata": {
        "id": "t36F935TFeSz",
        "outputId": "005bbac0-1be1-48bb-8e36-a6b737ce7c8b",
        "colab": {
          "base_uri": "https://localhost:8080/",
          "height": 279
        }
      },
      "source": [
        "#@ Visualizing the loss:\n",
        "plot_graphs(history, \"loss\")"
      ],
      "execution_count": 35,
      "outputs": [
        {
          "output_type": "display_data",
          "data": {
            "image/png": "[encoded data removed]",
            "text/plain": [
              "<Figure size 432x288 with 1 Axes>"
            ]
          },
          "metadata": {
            "tags": [],
            "needs_background": "light"
          }
        }
      ]
    },
    {
      "cell_type": "markdown",
      "metadata": {
        "id": "UT6m8xrPGRDO"
      },
      "source": [
        "* Now, I will use the Model to predict the Sentiment of the actual Text Data and I will load the best model to predict the Sentiment of that Data."
      ]
    },
    {
      "cell_type": "code",
      "metadata": {
        "id": "X1JYFYR5G-8l",
        "outputId": "9c2900f1-4839-4d01-8d27-8210e2a6be7b",
        "colab": {
          "base_uri": "https://localhost:8080/",
          "height": 88
        }
      },
      "source": [
        "#@ Model Evaluation:\n",
        "best_model = tf.keras.models.load_model(\"/tmp/sentiment.hdf5\", compile=False)\n",
        "\n",
        "#@ Padding the Input Text Data:\n",
        "def pad_to_size(vec, size):\n",
        "  zeros = [0] * (size - len(vec))\n",
        "  vec.extend(zeros)\n",
        "  return vec\n",
        "\n",
        "#@ Predicting the Sentiment of the Text Data:\n",
        "def predict_fn(pred_text):\n",
        "  encoded_pred_text = encoder.encode(pred_text)\n",
        "  print(encoded_pred_text)\n",
        "  encoded_pred_text = pad_to_size(encoded_pred_text, 32)\n",
        "  print(encoded_pred_text)\n",
        "  encoded_pred_text = tf.cast(encoded_pred_text, tf.float32)\n",
        "  predictions = best_model.predict(tf.expand_dims(encoded_pred_text, 0))\n",
        "  return (predictions)\n",
        "\n",
        "#@ Example of the Text Data:\n",
        "pred_text = \"The package was good looking but the product is quite annoying. I think I should change it soon.\"\n",
        "predictions = predict_fn(pred_text)\n",
        "print(predictions)"
      ],
      "execution_count": 37,
      "outputs": [
        {
          "output_type": "stream",
          "text": [
            "[37425, 42608, 14580, 64528, 52588, 54321, 21339, 51619, 19062, 27766, 56937, 49575, 43026, 49575, 70082, 67696, 54221, 44347]\n",
            "[37425, 42608, 14580, 64528, 52588, 54321, 21339, 51619, 19062, 27766, 56937, 49575, 43026, 49575, 70082, 67696, 54221, 44347, 0, 0, 0, 0, 0, 0, 0, 0, 0, 0, 0, 0, 0, 0]\n",
            "[[-1.3544923]]\n"
          ],
          "name": "stdout"
        }
      ]
    },
    {
      "cell_type": "code",
      "metadata": {
        "id": "v52u3fIeKtWf"
      },
      "source": [
        "#@ Inspection:\n",
        "# %reload_ext tensorboard\n",
        "# %tensorboard --logdir /tmp/logs"
      ],
      "execution_count": 39,
      "outputs": []
    },
    {
      "cell_type": "code",
      "metadata": {
        "id": "Uy6GAdU75_yu"
      },
      "source": [
        ""
      ],
      "execution_count": null,
      "outputs": []
    }
  ]
}